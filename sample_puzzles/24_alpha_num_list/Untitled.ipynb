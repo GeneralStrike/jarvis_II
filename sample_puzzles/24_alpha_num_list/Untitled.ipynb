{
 "cells": [
  {
   "cell_type": "code",
   "execution_count": 90,
   "metadata": {},
   "outputs": [
    {
     "name": "stdout",
     "output_type": "stream",
     "text": [
      "['C', '19', 'N', '45', 'E', '3', 'Y', '49', 'A', '51', 'Q', '4', 'V', '32', 'F', '31', 'M', '14', 'O', '9', 'G', '26', 'U', '18', 'H', '23', 'T', '36', 'K', '46', 'W', '34', 'X', '42', 'L', '57', 'J', '53', 'Z', '25', 'S', '1']\n",
      "['27', 'I', '47', 'D', '33', 'P', '15']\n"
     ]
    }
   ],
   "source": [
    "run gen_alpha_num_list.py"
   ]
  },
  {
   "cell_type": "code",
   "execution_count": 91,
   "metadata": {
    "collapsed": true
   },
   "outputs": [],
   "source": [
    "pycat alpha_num_list.txt"
   ]
  },
  {
   "cell_type": "code",
   "execution_count": 93,
   "metadata": {},
   "outputs": [
    {
     "name": "stdout",
     "output_type": "stream",
     "text": [
      "R\n"
     ]
    }
   ],
   "source": [
    "run solution_alpha_num_list.py"
   ]
  },
  {
   "cell_type": "code",
   "execution_count": null,
   "metadata": {},
   "outputs": [],
   "source": []
  },
  {
   "cell_type": "code",
   "execution_count": null,
   "metadata": {
    "collapsed": true
   },
   "outputs": [],
   "source": []
  }
 ],
 "metadata": {
  "kernelspec": {
   "display_name": "Python 3",
   "language": "python",
   "name": "python3"
  },
  "language_info": {
   "codemirror_mode": {
    "name": "ipython",
    "version": 3
   },
   "file_extension": ".py",
   "mimetype": "text/x-python",
   "name": "python",
   "nbconvert_exporter": "python",
   "pygments_lexer": "ipython3",
   "version": "3.6.4"
  }
 },
 "nbformat": 4,
 "nbformat_minor": 2
}
