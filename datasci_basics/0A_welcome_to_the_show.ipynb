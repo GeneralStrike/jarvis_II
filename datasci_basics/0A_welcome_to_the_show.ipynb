{
 "cells": [
  {
   "cell_type": "markdown",
   "metadata": {},
   "source": [
    "# Welcome to the Dark Art of Coding:\n",
    "## Introduction to Data Science Fundamentals\n",
    "Opening thoughts... about Statistics and Probability\n",
    "\n",
    "<img src='../images/logos.3.600.wide.png' height='250' width='300' style=\"float:right\">"
   ]
  },
  {
   "cell_type": "markdown",
   "metadata": {},
   "source": [
    "# A moment of gratitude"
   ]
  },
  {
   "cell_type": "markdown",
   "metadata": {},
   "source": [
    "* Family and friends\n",
    "* Booz Allen Hamilton\n",
    "* Pycon Tutorial Selection committee\n",
    "* The mentors\n",
    "* You, the students"
   ]
  },
  {
   "cell_type": "markdown",
   "metadata": {},
   "source": [
    "# What to expect/Not expect"
   ]
  },
  {
   "cell_type": "markdown",
   "metadata": {},
   "source": [
    "## ... What to expect\n",
    "* Overview of Probability and Statistics principles and techniques\n",
    "* Snippets of Python code (NOTE: more to allow us to demo than for true statistical analysis)\n",
    "* Level-up opportunities to practice concepts and explore code\n",
    "* Gotchas: things to look out for\n",
    "* Insights/resources to continue your learning journey\n",
    "\n",
    "## ... What NOT to expect\n",
    "* A typical college course is ~ 40 hours spread over weeks/months > we have 3.5 hours (3.0 if we account for biology)\n",
    "* Robust, industrialized code\n",
    "* Deep dives ... we just won't have the time\n",
    "\n",
    "## ... More of what to expect\n",
    "* I love questions, but I may not answer them... more on that\n"
   ]
  },
  {
   "cell_type": "markdown",
   "metadata": {},
   "source": [
    "# How to get the most of this experience"
   ]
  },
  {
   "cell_type": "markdown",
   "metadata": {},
   "source": [
    "I love this picture: this literally is how I learn... everything.\n",
    "\n",
    "\n",
    "<img src='images/changing_stuff.jpg' width='450'>\n"
   ]
  },
  {
   "cell_type": "markdown",
   "metadata": {},
   "source": [
    "We all fall into the depths of anxiety and boredom...\n",
    "\n",
    "<img src='images/anxiety-boredom-3.png' width='450'>"
   ]
  },
  {
   "cell_type": "markdown",
   "metadata": {},
   "source": [
    "We all suffer through these feelings...\n",
    "\n",
    "<img src='images/moron_genius.png' width='450'>"
   ]
  },
  {
   "cell_type": "markdown",
   "metadata": {},
   "source": [
    "Let's get started!"
   ]
  },
  {
   "cell_type": "code",
   "execution_count": null,
   "metadata": {},
   "outputs": [],
   "source": []
  }
 ],
 "metadata": {
  "kernelspec": {
   "display_name": "Python 3",
   "language": "python",
   "name": "python3"
  },
  "language_info": {
   "codemirror_mode": {
    "name": "ipython",
    "version": 3
   },
   "file_extension": ".py",
   "mimetype": "text/x-python",
   "name": "python",
   "nbconvert_exporter": "python",
   "pygments_lexer": "ipython3",
   "version": "3.6.5"
  }
 },
 "nbformat": 4,
 "nbformat_minor": 2
}
