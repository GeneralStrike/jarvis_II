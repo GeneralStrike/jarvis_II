{
 "cells": [
  {
   "cell_type": "markdown",
   "metadata": {},
   "source": [
    "# Welcome to the Dark Art of Coding:\n",
    "## Introduction to Data Science Fundamentals\n",
    "Basic Probability\n",
    "\n",
    "\n",
    "<img src='../images/logos.3.600.wide.png' height='250' width='300' style=\"float:right\">"
   ]
  },
  {
   "cell_type": "markdown",
   "metadata": {},
   "source": [
    "# Main objectives\n",
    "---"
   ]
  },
  {
   "cell_type": "markdown",
   "metadata": {},
   "source": [
    "You will be able to:\n",
    "\n",
    "* Understand how to calculate probabilities of dependent and independent events\n",
    "* Understand permutations and combinations, including:\n",
    "    * calculating the number of arrangements of items\n",
    "    * dealing with duplicates\n",
    "    * arranging by individual items versus types of items\n",
    "    * examining permutations\n",
    "    * examining combinations\n",
    "\n",
    "\n",
    "\n",
    "\n",
    "* linear transforms #TODO ??????????????"
   ]
  },
  {
   "cell_type": "markdown",
   "metadata": {},
   "source": [
    "# Calculating the probability of an event\n",
    "---"
   ]
  },
  {
   "cell_type": "markdown",
   "metadata": {},
   "source": [
    "There are lots of definitions of probability... let's use one found in **Statistics in a Nutshell** (Sarah Boslaugh):\n",
    "\n",
    "*\"... probability tells us how often something is likely to occur when an experiment is repeated...\"*\n",
    "\n",
    "TODO: add introductory text"
   ]
  },
  {
   "cell_type": "markdown",
   "metadata": {},
   "source": [
    "## Definitions\n",
    "\n",
    "To get started, let's put together some definitions:"
   ]
  },
  {
   "cell_type": "markdown",
   "metadata": {},
   "source": [
    "### Trials (or experiments or observations)"
   ]
  },
  {
   "cell_type": "markdown",
   "metadata": {},
   "source": [
    "A **trial** is an event whose outcome is unknown\n",
    "\n",
    "Trials can be very simple OR extremely complex:\n",
    "\n",
    "* simple as flipping a coin or rolling a dice\n",
    "* complex as determining whether someone with a low birth weight is gonna graduate college 22 years later"
   ]
  },
  {
   "cell_type": "markdown",
   "metadata": {},
   "source": [
    "### Sample space"
   ]
  },
  {
   "cell_type": "markdown",
   "metadata": {},
   "source": [
    "The **sample space**, often signified by an `S` is a set of all possible outcomes of a trial.\n",
    "\n",
    "Thus, if our trial is a single roll of a six-sided die, then the sample space will be:\n",
    "\n",
    "`S = {1, 2, 3, 4, 5, 6}`\n",
    "\n",
    "AND if our trial is choosing a coin from a bag, then the sample space might be:\n",
    "\n",
    "`S = {quarter, dime, nickel, penny}`\n"
   ]
  },
  {
   "cell_type": "markdown",
   "metadata": {},
   "source": [
    "### Events"
   ]
  },
  {
   "cell_type": "markdown",
   "metadata": {},
   "source": [
    "An **Event** specifies the outcome of a trial. Events can be the outcome of a single trial OR a set of outcomes.\n",
    "\n",
    "Events are often designated with an `E`.\n",
    "\n",
    "For example, if we roll a die and want to specify our event to be that we get a one (1), then our event might be defined:\n",
    "\n",
    "`E = {1}`\n",
    "\n",
    "Similarly, if we want to specify our event to be that we get an even number, then our event might be defined:\n",
    "\n",
    "`E = {2, 4, 6}`"
   ]
  },
  {
   "cell_type": "markdown",
   "metadata": {},
   "source": [
    "### Calculating a probability"
   ]
  },
  {
   "cell_type": "markdown",
   "metadata": {},
   "source": [
    "To calculate a simple probability of an event, labeled `P(E)`, we divide the number of ways of getting the event, `n(E)` by the number of elements in the sample space, `n(S)`.\n",
    "\n",
    "`P(E) = n(E) / n(S)`"
   ]
  },
  {
   "cell_type": "markdown",
   "metadata": {},
   "source": [
    "For example, if we calculate the probability of rolling a `1` on a six sided die...\n",
    "\n",
    "```\n",
    "n(E) = 1      # number of ways to get the event\n",
    "n(S) = 6      # number of elements in the sample space\n",
    "\n",
    "P(E) = 1 / 6\n",
    "```"
   ]
  },
  {
   "cell_type": "markdown",
   "metadata": {},
   "source": [
    "### Using python to calculate some probabilities"
   ]
  },
  {
   "cell_type": "markdown",
   "metadata": {},
   "source": [
    "Let's start with a simple function that allows us to calculate a simple probability of getting a `1` when we roll a six-sided die.\n",
    "\n",
    "NOTE: in the gaming community, die are often referred to with the prefix `d` and the number of sides:\n",
    "* d6 for a six-sided die\n",
    "* d8 for an eight-sided die\n",
    "* etc"
   ]
  },
  {
   "cell_type": "code",
   "execution_count": 62,
   "metadata": {},
   "outputs": [],
   "source": [
    "def one_on_a_d6():\n",
    "    '''Return the probability of rolling a 1 on a d6'''\n",
    "    \n",
    "    return 1 / 6"
   ]
  },
  {
   "cell_type": "code",
   "execution_count": 63,
   "metadata": {},
   "outputs": [
    {
     "data": {
      "text/plain": [
       "0.16666666666666666"
      ]
     },
     "execution_count": 63,
     "metadata": {},
     "output_type": "execute_result"
    }
   ],
   "source": [
    "one_on_a_d6()"
   ]
  },
  {
   "cell_type": "markdown",
   "metadata": {},
   "source": [
    "As you can imagine, this is pretty limited. So let's put together a function that is a bit more capable."
   ]
  },
  {
   "cell_type": "code",
   "execution_count": 3,
   "metadata": {},
   "outputs": [],
   "source": [
    "def probability(sample_size, event):\n",
    "    '''Return the probability of an event given the event and the sample size.\n",
    "    NOTE: the event can only be composed of a single element.'''\n",
    "    \n",
    "    count = 1\n",
    "    return count / sample_size"
   ]
  },
  {
   "cell_type": "markdown",
   "metadata": {},
   "source": [
    "Presuming that our event is to roll a `4` on a six-sided die..."
   ]
  },
  {
   "cell_type": "code",
   "execution_count": 4,
   "metadata": {},
   "outputs": [
    {
     "data": {
      "text/plain": [
       "0.16666666666666666"
      ]
     },
     "execution_count": 4,
     "metadata": {},
     "output_type": "execute_result"
    }
   ],
   "source": [
    "probability(sample_size=6, event=4)"
   ]
  },
  {
   "cell_type": "markdown",
   "metadata": {},
   "source": [
    "The astute observer would notice that... `event` didn't really do anything in our function, since we were focused on the probability of only one event occurring.\n"
   ]
  },
  {
   "cell_type": "markdown",
   "metadata": {},
   "source": [
    "### What about multiple elements in an event?"
   ]
  },
  {
   "cell_type": "markdown",
   "metadata": {},
   "source": [
    "What if we wanted to calculate the probability of rolling a `1, 2, or 3`?"
   ]
  },
  {
   "cell_type": "markdown",
   "metadata": {},
   "source": [
    "Probability of rolling a one, two OR three on a six-sided die is simply the sum of each individual probability."
   ]
  },
  {
   "cell_type": "code",
   "execution_count": 9,
   "metadata": {},
   "outputs": [
    {
     "name": "stdout",
     "output_type": "stream",
     "text": [
      "0.16666666666666666\n",
      "0.16666666666666666\n",
      "0.16666666666666666\n",
      "Sum: 0.5\n"
     ]
    }
   ],
   "source": [
    "prob1 = probability(6, 1) \n",
    "prob2 = probability(6, 2)\n",
    "prob3 = probability(6, 3)\n",
    "\n",
    "print(prob1, prob2, prob3, sep='\\n')\n",
    "print(\"Sum:\", sum([prob1, prob2, prob3]))"
   ]
  },
  {
   "cell_type": "code",
   "execution_count": 10,
   "metadata": {},
   "outputs": [
    {
     "name": "stdout",
     "output_type": "stream",
     "text": [
      "0.5\n"
     ]
    }
   ],
   "source": [
    "print(prob1 + prob2 + prob3)"
   ]
  },
  {
   "cell_type": "markdown",
   "metadata": {},
   "source": [
    "If you recall, our probability formula alluded to the fact that we can calculate the probability of an event w/ multiple elements. To calculate this probability labeled `P(E)`, we use the same formula and divide the number of ways of getting the event, `n(E)` by the number of elements in the sample space, `n(S)`.\n",
    "\n",
    "$\\Large P(E) = \\frac{n(E)}{n(S)}$"
   ]
  },
  {
   "cell_type": "markdown",
   "metadata": {},
   "source": [
    "For example, if we calculate the probability of rolling a `1, 2, or 3` on a six-sided die, since there are 3 elements in our event.\n",
    "\n",
    "```\n",
    "n(E) = 3      # number of ways to get the event\n",
    "n(S) = 6      # number of elements in the sample space\n",
    "\n",
    "P(E) = 3 / 6 = 0.5\n",
    "```"
   ]
  },
  {
   "cell_type": "markdown",
   "metadata": {},
   "source": [
    "Our previous function presumed we were only looking at a single element out of a sample space and thus used a hard coded value of `1` as our `count` for the number of elements in the event. That function doesn't help us if we have multiple elements in our event. Let's look at the probability of rolling a `1, 2, or 3`:"
   ]
  },
  {
   "cell_type": "code",
   "execution_count": 23,
   "metadata": {
    "collapsed": true
   },
   "outputs": [],
   "source": [
    "event = [1, 2, 3]\n",
    "\n",
    "def probability(sample_size, event=event):\n",
    "    '''Return the probability of an event given the event and the sample size.\n",
    "    The event may be composed of either a single element OR multiple elements (i.e. \n",
    "    a tuple OR list).\n",
    "    '''\n",
    "        \n",
    "    if isinstance(event, (list, tuple)):\n",
    "        count = len(event)\n",
    "    else:\n",
    "        count = 1\n",
    "    return count / sample_size"
   ]
  },
  {
   "cell_type": "markdown",
   "metadata": {},
   "source": [
    "For simplicity, let's alias our function as `P`:"
   ]
  },
  {
   "cell_type": "code",
   "execution_count": 12,
   "metadata": {},
   "outputs": [],
   "source": [
    "P = probability"
   ]
  },
  {
   "cell_type": "code",
   "execution_count": 13,
   "metadata": {},
   "outputs": [
    {
     "data": {
      "text/plain": [
       "0.16666666666666666"
      ]
     },
     "execution_count": 13,
     "metadata": {},
     "output_type": "execute_result"
    }
   ],
   "source": [
    "# We want to make sure this works in the base case of a single element in a event\n",
    "# i.e. rolling a two on a six-sided die\n",
    "\n",
    "P(6, 2)"
   ]
  },
  {
   "cell_type": "code",
   "execution_count": 14,
   "metadata": {},
   "outputs": [
    {
     "data": {
      "text/plain": [
       "0.5"
      ]
     },
     "execution_count": 14,
     "metadata": {},
     "output_type": "execute_result"
    }
   ],
   "source": [
    "# probability of rolling a four, five OR a six on a six-sided die\n",
    "\n",
    "P(6, [4, 5, 6])"
   ]
  },
  {
   "cell_type": "code",
   "execution_count": 15,
   "metadata": {},
   "outputs": [
    {
     "data": {
      "text/plain": [
       "0.5"
      ]
     },
     "execution_count": 15,
     "metadata": {},
     "output_type": "execute_result"
    }
   ],
   "source": [
    "# probability of rolling an odd number on a six-sided die\n",
    "\n",
    "P(6, [1, 3, 5])"
   ]
  },
  {
   "cell_type": "markdown",
   "metadata": {},
   "source": [
    "Venn diagrams are often used to represent elements in a sample space using simple pictures:\n",
    "    \n",
    "This might be a representation of rolling the odd numbers on a d10:\n",
    "\n",
    "**NOTE**: \n",
    "\n",
    "* When dealing with Venn Diagrams, typically the rectangle represents all possible values.\n",
    "* Values in the circles/ellipses are values that you are interested in.\n",
    "* For convenience, I explictly stated that the rectangle holds all the other values, but eventually, I will stop doing so (as that is generally a given).\n",
    "    \n",
    "<img src='images/venn_odd.jpg' height='600' width='600'>    "
   ]
  },
  {
   "cell_type": "markdown",
   "metadata": {},
   "source": [
    "## Experience Points\n",
    "---"
   ]
  },
  {
   "cell_type": "markdown",
   "metadata": {},
   "source": [
    "### Complete the following exercises:\n",
    "\n",
    "It may be useful to create a Venn Diagram to help you characterize the Sample Space and the Event."
   ]
  },
  {
   "cell_type": "markdown",
   "metadata": {},
   "source": [
    "**A**. Use Python to calculate the probability of rolling a 20 on a d20. To help you, we suggest some inputs representing the element(s) in the event and elements in the sample space.\n",
    "\n",
    "$E = 1$\n",
    "\n",
    "$S = {1, 2, 3, 4, 5, 6, 7, 8, 9, 10, 11, 12, 13, 14, 15, 16, 17, 18, 19, 20}$\n",
    "\n",
    "$\\large P(E) = \\frac{n(E)}{n(S)}$\n"
   ]
  },
  {
   "cell_type": "code",
   "execution_count": null,
   "metadata": {},
   "outputs": [],
   "source": []
  },
  {
   "cell_type": "markdown",
   "metadata": {},
   "source": [
    "**B**. Use Python to calculate the probability of rolling an even number on a d10. To help you, we suggest some inputs representing the element(s) in the event and elements in the sample space.\n",
    "\n",
    "$E = \\{2, 4, 6, 8, 10\\}$\n",
    "\n",
    "$S = \\{1, 2, 3, 4, 5, 6, 7, 8, 9, 10\\}$\n",
    "\n",
    "$\\large P(E) = \\frac{n(E)}{n(S)}$"
   ]
  },
  {
   "cell_type": "code",
   "execution_count": null,
   "metadata": {},
   "outputs": [],
   "source": []
  },
  {
   "cell_type": "markdown",
   "metadata": {},
   "source": [
    "**C**. Use Python to calculate the probability of picking an Ace from a standard 52-card deck. To help you, we suggest some inputs representing the element(s) in the event and elements in the sample space.\n",
    "\n",
    "As a shortcut, we will represent the cards using this nomenclature:\n",
    "\n",
    "Ace = A, King = K, Queen = Q, Jack = J, numbered cards are represented by number\n",
    "\n",
    "Club = C, Spade = S, Diamond = D, Heart = H\n",
    "\n",
    "Some example cards would be:\n",
    "\n",
    "* Ace of Spades: AS\n",
    "* King of Hearts: KH\n",
    "* Queen of Clubs: QC\n",
    "* Ten of Diamonds: 10D\n",
    "* Nine of Spades: 9S\n",
    "\n",
    "Thus... our Event and Sample Space would look like this:\n",
    "\n",
    "$E = \\{AC, AS, AD, AH\\}$\n",
    "\n",
    "$S = \\{2C, 3C, 4C, 5C, 6C, 7C, 8C, 9C, 10C, JC, QC, KC, AC, \\\\\n",
    "   \\phantom{=} 2S, 3S, 4S, 5S, 6S, 7S, 8S, 9S, 10S, JS, QS, KS, AS, \\\\\n",
    "\\phantom{=} 2D, 3D, 4D, 5D, 6D, 7D, 8D, 9D, 10D, JD, QD, KD, AD, \\\\\n",
    "\\phantom{=} 2H, 3H, 4H, 5H, 6H, 7H, 8H, 9H, 10H, JH, QH, KH, AH\\}$\n",
    "\n",
    "$\\large P(E) = \\frac{n(E)}{n(S)}$\n",
    "\n"
   ]
  },
  {
   "cell_type": "code",
   "execution_count": null,
   "metadata": {},
   "outputs": [],
   "source": []
  },
  {
   "cell_type": "markdown",
   "metadata": {},
   "source": [
    "**D**. Use Python to calculate the probability of a day in May 2018 falling a weekend. Practice figuring out what the Event looks like and the sample space looks like. Use your answers to calculate the probability.\n",
    "\n",
    "$E = ?$\n",
    "\n",
    "$S = ?$\n",
    "\n",
    "$\\large P(E) = \\frac{n(E)}{n(S)}$"
   ]
  },
  {
   "cell_type": "code",
   "execution_count": null,
   "metadata": {},
   "outputs": [],
   "source": []
  },
  {
   "cell_type": "markdown",
   "metadata": {},
   "source": [
    "**E**. Use Python to calculate the probability of rolling an even number on a d10."
   ]
  },
  {
   "cell_type": "code",
   "execution_count": null,
   "metadata": {},
   "outputs": [],
   "source": []
  },
  {
   "cell_type": "markdown",
   "metadata": {},
   "source": [
    "**F**. Use Python to calculate the probability of "
   ]
  },
  {
   "cell_type": "markdown",
   "metadata": {},
   "source": [
    "**G**. Use Python to calculate the probability of "
   ]
  },
  {
   "cell_type": "markdown",
   "metadata": {},
   "source": [
    "**H**. Use Python to calculate the probability of "
   ]
  },
  {
   "cell_type": "markdown",
   "metadata": {},
   "source": [
    "**I**. Use Python to calculate the probability of "
   ]
  },
  {
   "cell_type": "markdown",
   "metadata": {},
   "source": [
    "**J**. Use Python to calculate the probability of "
   ]
  },
  {
   "cell_type": "code",
   "execution_count": null,
   "metadata": {},
   "outputs": [],
   "source": []
  },
  {
   "cell_type": "code",
   "execution_count": null,
   "metadata": {},
   "outputs": [],
   "source": []
  },
  {
   "cell_type": "code",
   "execution_count": null,
   "metadata": {},
   "outputs": [],
   "source": []
  },
  {
   "cell_type": "code",
   "execution_count": null,
   "metadata": {},
   "outputs": [],
   "source": []
  },
  {
   "cell_type": "markdown",
   "metadata": {},
   "source": [
    "If you (and your partner, if you're working in pairs) are done, then you can put your green sticky up! This is how we know you're done.\n",
    "\n",
    "<img src='../images/green_sticky.300px.png' width='200' style='float:left'>"
   ]
  },
  {
   "cell_type": "markdown",
   "metadata": {},
   "source": [
    "# Exclusive events and intersections\n",
    "---"
   ]
  },
  {
   "cell_type": "markdown",
   "metadata": {},
   "source": [
    "As noted above, sometimes events are exclusive and adding their probabilities works as expected.\n",
    "\n",
    "In other cases, events are not exclusive (i.e. they have some degree of overlap or intersection) and thus simply adding the probabilities together doesn't work"
   ]
  },
  {
   "cell_type": "markdown",
   "metadata": {},
   "source": [
    "## Exclusive events"
   ]
  },
  {
   "cell_type": "markdown",
   "metadata": {},
   "source": [
    "Here is a simple example of a pair of exclusive events:\n",
    "\n",
    "On a d10, what is the probability of rolling an even number OR and odd number?\n",
    "\n",
    "$P(even) = 0.5$\n",
    "\n",
    "$P(odd) = 0.5$\n",
    "\n",
    "$P(even \\ OR \\ odd) = 1.0 \\ (i.e. \\ this \\ outcome \\ is \\ guaranteed)$\n",
    "\n",
    "**NOTE**: you can't get higher than a **1.0** when calculating probabilities. Probabilities range from **zero** (it will not happen) to **one** (it will happen, guaranteed).\n",
    "\n",
    "<img src='images/venn_exclusive.jpg' height='600' width='600'> \n"
   ]
  },
  {
   "cell_type": "markdown",
   "metadata": {},
   "source": [
    "## Intersecting events"
   ]
  },
  {
   "cell_type": "markdown",
   "metadata": {},
   "source": [
    "Consider the\n",
    "\n",
    "Probability you roll a number higher than 5 OR roll an even number on a d10. Let's start by creating our Event sets...\n",
    "    \n",
    "$E(greater\\_than\\_five) = \\{6, 7, 8, 9, 10\\}$\n",
    "\n",
    "$E(even) = \\{2, 4, 6, 8, 10\\}$\n",
    "\n",
    "$E(greater\\_than\\_five \\ OR \\ even) = \\{2, 4, 6, 7, 8, 9, 10\\}$\n",
    "\n",
    "$S = \\{1, 2, 3, 4, 5, 6, 7, 8, 9, 10\\}$\n",
    "\n",
    "<img src='images/venn_intersection.jpg' height='600' width='600'> \n",
    "\n",
    "\n",
    "\n",
    "$P(greater\\_than\\_five) = \\frac{5}{10} = 0.5$\n",
    "\n",
    "$P(even) = \\frac{5}{10} = 0.5$\n",
    "\n",
    "Which implies that ...\n",
    "\n",
    "$P(greater\\_than\\_five \\ OR \\ even) = 1.0$\n",
    "\n",
    "...which is clearly not correct. The **correct answer is**: \n",
    "\n",
    "$P(greater\\_than\\_five \\ OR \\ even) = \\frac{7}{10} = 0.7$\n",
    "\n",
    "\n",
    "\n",
    "\n",
    "\n"
   ]
  },
  {
   "cell_type": "markdown",
   "metadata": {},
   "source": [
    "### Wait, what went wrong?\n",
    "\n",
    "Why does this fail? Because the formula we used previously for calculating exclusive events did not take into account overlap OR intersection:\n",
    "    \n",
    "$\\large P(A \\ \\cup \\ B) = \\frac{n(A) \\ + \\ n(B) \\ - \\ n(A \\cap B)}{n(S)}$    "
   ]
  },
  {
   "cell_type": "markdown",
   "metadata": {},
   "source": [
    "In the formula above, the intersection between two events is symbolized by this shape:\n",
    "\n",
    "$\\Large \\cap$\n",
    "\n",
    "And thus the intersection (or overlapping portion in a Venn Diagram) is represented by:\n",
    "\n",
    "$\\large n(A \\cap B)$\n",
    "\n",
    "Similarly, the union between two events is symbolized by this shape:\n",
    "\n",
    "$\\Large \\cup$\n",
    "\n",
    "And thus the union in the formula is represented by:\n",
    "\n",
    "$\\large n(A \\cup B)$\n"
   ]
  },
  {
   "cell_type": "markdown",
   "metadata": {},
   "source": [
    "With this in mind, our previous calculation looks more like this:\n",
    "    \n",
    "$\\large P(A \\ \\cup \\ B) = \\frac{n(A) \\ + \\ n(B) \\ - \\ n(A \\cap B)}{n(S)}$   \n",
    "\n",
    "$\\large P(A \\ \\cup \\ B) = \\frac{5 \\ + \\ 5 \\ - \\ 3}{10} = \\frac{7}{10}$\n",
    "\n",
    "$\\large P(A \\ \\cup \\ B) = 0.7$\n",
    "    "
   ]
  },
  {
   "cell_type": "markdown",
   "metadata": {},
   "source": [
    "### Putting this into practice\n",
    "\n",
    "Let's explore this a bit:\n",
    "\n",
    "What is the probability of rolling greater than a 5 on a d10 OR rolling an even number?"
   ]
  },
  {
   "cell_type": "code",
   "execution_count": 22,
   "metadata": {},
   "outputs": [
    {
     "name": "stdout",
     "output_type": "stream",
     "text": [
      "0.7\n"
     ]
    }
   ],
   "source": [
    "answer = P(10, [6, 7, 8, 9, 10]) + P(10, [2, 4, 6, 8, 10]) - P(10, [6, 8, 10])\n",
    "print(answer)"
   ]
  },
  {
   "cell_type": "markdown",
   "metadata": {},
   "source": [
    "What is the probability of drawing a red card from a standard deck OR drawing a King?\n",
    "\n",
    "As you can imagine, this becomes problematic as our sample size grows..."
   ]
  },
  {
   "cell_type": "markdown",
   "metadata": {},
   "source": [
    "```python\n",
    "answer = P(52, ['AD', '2D', '3D', '4D', ...]) + P(52, ['KS', 'KC', 'KD', 'KH']) - P(52, ['KD', 'KH'])\n",
    "print(answer)\n",
    "```"
   ]
  },
  {
   "cell_type": "markdown",
   "metadata": {},
   "source": [
    "To get around this, we can alter our probability function... to simply allow us to input the size of our event space."
   ]
  },
  {
   "cell_type": "code",
   "execution_count": 31,
   "metadata": {},
   "outputs": [],
   "source": [
    "def probability(sample_size, event=None, event_size=None):\n",
    "    '''Return the probability of an event given the event and the sample size.\n",
    "    \n",
    "    event: the event argument may be composed of either\n",
    "    * multiple elements (i.e. a tuple OR list) (which are then counted) OR\n",
    "    * a single element which is equated internally to a count of one\n",
    "    \n",
    "    event_size: As an alternative to providing an event, you can simply provide your own count using\n",
    "    the event_size argument:\n",
    "    * an integer representing the number of elements in an event.\n",
    "    \n",
    "    '''\n",
    "        \n",
    "    if isinstance(event, (list, tuple)):\n",
    "        count = len(event)\n",
    "    elif isinstance(event_size, int):\n",
    "        count = event_size\n",
    "    else:\n",
    "        count = 1\n",
    "    return count / sample_size\n",
    "\n",
    "# Again, let's provide an alias for our probability function...\n",
    "\n",
    "P = probability"
   ]
  },
  {
   "cell_type": "code",
   "execution_count": 32,
   "metadata": {},
   "outputs": [
    {
     "name": "stdout",
     "output_type": "stream",
     "text": [
      "0.5384615384615384\n"
     ]
    }
   ],
   "source": [
    "answer = P(52, event_size=26) + P(52, event_size=4) - P(52, event_size=2)\n",
    "print(answer)"
   ]
  },
  {
   "cell_type": "markdown",
   "metadata": {},
   "source": [
    "As a sanity check... let's take a quick look at the each of the components of the formula."
   ]
  },
  {
   "cell_type": "code",
   "execution_count": 34,
   "metadata": {},
   "outputs": [
    {
     "name": "stdout",
     "output_type": "stream",
     "text": [
      "P(red) 0.5\n",
      "P(king) 0.07692307692307693\n",
      "P(red kings) 0.038461538461538464\n"
     ]
    }
   ],
   "source": [
    "print('P(red)', P(52, event_size=26))\n",
    "print('P(king)', P(52, event_size=4))\n",
    "print('P(red kings)', P(52, event_size=2))"
   ]
  },
  {
   "cell_type": "code",
   "execution_count": null,
   "metadata": {},
   "outputs": [],
   "source": [
    "What is the probability of drawing a red card from a standard deck OR drawing a face card (King, Queen, Jack)?"
   ]
  },
  {
   "cell_type": "code",
   "execution_count": 35,
   "metadata": {},
   "outputs": [
    {
     "name": "stdout",
     "output_type": "stream",
     "text": [
      "0.6153846153846154\n"
     ]
    }
   ],
   "source": [
    "answer = P(52, event_size=26) + P(52, event_size=12) - P(52, event_size=6)\n",
    "print(answer)"
   ]
  },
  {
   "cell_type": "markdown",
   "metadata": {},
   "source": [
    "Imagine the 46 players in your board game group have favorite games in the following categories:\n",
    "    \n",
    "* pandemic ONLY (12 players)\n",
    "* pandemic AND carcassonne (6)\n",
    "* carcassonne ONLY (16)\n",
    "* carcassonne AND clank! (4)\n",
    "* clank! ONLY (8)\n",
    "\n",
    "<img src='images/venn_games.jpg' height='600' width='600'> "
   ]
  },
  {
   "cell_type": "markdown",
   "metadata": {},
   "source": [
    "What is the probability of finding a **pandemic** player or a **carcassonne** player"
   ]
  },
  {
   "cell_type": "code",
   "execution_count": 39,
   "metadata": {},
   "outputs": [
    {
     "name": "stdout",
     "output_type": "stream",
     "text": [
      "0.8411371237458194\n"
     ]
    }
   ],
   "source": [
    "answer = P(46, event_size=18) + P(46, event_size=26) - P(52, event_size=6)\n",
    "print(answer)"
   ]
  },
  {
   "cell_type": "markdown",
   "metadata": {},
   "source": [
    "What is the probability of finding a **carcassonne** player or a **clank!** player"
   ]
  },
  {
   "cell_type": "code",
   "execution_count": 40,
   "metadata": {},
   "outputs": [
    {
     "name": "stdout",
     "output_type": "stream",
     "text": [
      "0.7491638795986622\n"
     ]
    }
   ],
   "source": [
    "answer = P(46, event_size=26) + P(46, event_size=12) - P(52, event_size=4)\n",
    "print(answer)"
   ]
  },
  {
   "cell_type": "markdown",
   "metadata": {},
   "source": [
    "## Experience Points\n",
    "---"
   ]
  },
  {
   "cell_type": "markdown",
   "metadata": {},
   "source": [
    "### Complete the following exercises:"
   ]
  },
  {
   "cell_type": "markdown",
   "metadata": {},
   "source": [
    "**A**. Use Python to calculate the probability of drawing a Black card OR an Ace, King, Queen, Jack, or 10"
   ]
  },
  {
   "cell_type": "code",
   "execution_count": null,
   "metadata": {},
   "outputs": [],
   "source": []
  },
  {
   "cell_type": "markdown",
   "metadata": {},
   "source": [
    "**B**. Use Python to calculate the probability of drawing a Diamond card OR an odd numeric card (3, 5, 7, 9)"
   ]
  },
  {
   "cell_type": "code",
   "execution_count": null,
   "metadata": {},
   "outputs": [],
   "source": []
  },
  {
   "cell_type": "markdown",
   "metadata": {},
   "source": [
    "**C**. Use Python to calculate the probability of drawing a Diamond or Spade card OR a numeric card (2 - 10)"
   ]
  },
  {
   "cell_type": "code",
   "execution_count": null,
   "metadata": {},
   "outputs": [],
   "source": []
  },
  {
   "cell_type": "markdown",
   "metadata": {},
   "source": [
    "If you (and your partner, if you're working in pairs) are done, then you can put your green sticky up! This is how we know you're done.\n",
    "\n",
    "<img src='../images/green_sticky.300px.png' width='200' style='float:left'>"
   ]
  },
  {
   "cell_type": "code",
   "execution_count": null,
   "metadata": {},
   "outputs": [],
   "source": []
  },
  {
   "cell_type": "markdown",
   "metadata": {},
   "source": [
    "# Conditionals\n",
    "---"
   ]
  },
  {
   "cell_type": "markdown",
   "metadata": {},
   "source": [
    "Another level of understanding probability is to be able to evaluate the probability of an event given some other condition.\n",
    "\n",
    "* What is the probability that a given card is a King if you know that it is black?\n",
    "* What is the probability that you roll a 10 if you know that the number rolled was even?"
   ]
  },
  {
   "cell_type": "markdown",
   "metadata": {},
   "source": [
    "### Probability Trees\n",
    "While Venn Diagrams were useful to help us solve the previous questions, an alternate visualization (a probability tree) is often useful to answer questions like this.\n",
    "\n",
    "In this case, create probability tree that has two-levels of branches.\n",
    "\n",
    "* The first level (on the left) shows the probability that a given card is Red or Black\n",
    "* The second level (on the right) then shows the probabilities that a card is a King or Not a King for each branch on the first level\n"
   ]
  },
  {
   "cell_type": "markdown",
   "metadata": {},
   "source": [
    "<img src='images/probtree_black_king.jpg' width='600' >"
   ]
  },
  {
   "cell_type": "markdown",
   "metadata": {},
   "source": [
    "To solve for the total probability across any single branch, we multiple the probability of the first branch by the probability of the second branch. For example, if we want to determine the probability of a card being a King and Black:\n",
    "\n",
    "$\\Large \\frac{26}{52} \\times \\frac{2}{26} = 0.03846$"
   ]
  },
  {
   "cell_type": "markdown",
   "metadata": {},
   "source": [
    "We can test this using our probability formula:"
   ]
  },
  {
   "cell_type": "code",
   "execution_count": 52,
   "metadata": {},
   "outputs": [
    {
     "data": {
      "text/plain": [
       "0.038461538461538464"
      ]
     },
     "execution_count": 52,
     "metadata": {},
     "output_type": "execute_result"
    }
   ],
   "source": [
    "P(52, event_size=26) * P(26, event_size=2)"
   ]
  },
  {
   "cell_type": "markdown",
   "metadata": {},
   "source": [
    "The other branches play out similarly:\n",
    "\n",
    "\n",
    "$\\Large \\frac{26}{52} \\times \\frac{24}{26} = 0.46153$\n",
    "\n",
    "$\\Large \\frac{26}{52} \\times \\frac{2}{26} = 0.03846$\n",
    "\n",
    "$\\Large \\frac{26}{52} \\times \\frac{24}{26} = 0.46153$\n"
   ]
  },
  {
   "cell_type": "markdown",
   "metadata": {},
   "source": [
    "The sum of the probabilities for any set of branches is always 1.0 (accounting for rounding errors).\n"
   ]
  },
  {
   "cell_type": "code",
   "execution_count": 51,
   "metadata": {},
   "outputs": [
    {
     "data": {
      "text/plain": [
       "1.0"
      ]
     },
     "execution_count": 51,
     "metadata": {},
     "output_type": "execute_result"
    }
   ],
   "source": [
    "round(sum([0.03846, 0.46153, 0.03846, 0.46153]), 3) "
   ]
  },
  {
   "cell_type": "code",
   "execution_count": null,
   "metadata": {},
   "outputs": [],
   "source": []
  },
  {
   "cell_type": "code",
   "execution_count": null,
   "metadata": {},
   "outputs": [],
   "source": []
  },
  {
   "cell_type": "code",
   "execution_count": null,
   "metadata": {},
   "outputs": [],
   "source": []
  },
  {
   "cell_type": "markdown",
   "metadata": {},
   "source": [
    "On the diagram above, we see that our probabilities are defined as binary conditionals. This is so common, that there is a special syntax for it.\n",
    "\n",
    "$B$ stands for all elements in B\n",
    "\n",
    "$B^\\prime$ stands for all elements NOT in B\n",
    "\n",
    "\n",
    "and \n",
    "\n",
    "$P(B)$ stands for the probability of event B\n",
    "\n",
    "$P(B^\\prime)$  stands for the probability of NOT getting event B"
   ]
  },
  {
   "cell_type": "markdown",
   "metadata": {},
   "source": [
    "With this in mind, we can genericize the above probability tree, where the syntax:\n",
    "\n",
    "$P(A|B)$ stands for probability of A, given B.\n"
   ]
  },
  {
   "cell_type": "markdown",
   "metadata": {},
   "source": [
    "<img src='images/probtree_B_A.jpg' width='600' >"
   ]
  },
  {
   "cell_type": "markdown",
   "metadata": {},
   "source": [
    "This leads to the formula:\n",
    "    \n",
    "$\\Large P(A|B) = \\frac{P(A \\cap B)}{P(B)}$\n",
    "\n",
    "which can be algebraically rearranged to read:\n",
    "\n",
    "$\\Large P(A \\cap B) = P(A|B) \\times P(B)$\n",
    "\n",
    "\n",
    "\n"
   ]
  },
  {
   "cell_type": "markdown",
   "metadata": {},
   "source": [
    "### Rules for probability trees:\n",
    "\n",
    "Those formula, along with **four rules** will help us calculate probabilities using probability trees:\n",
    "\n",
    "1. Define each level of the tree\n",
    "1. Fill in any facts that you have\n",
    "1. Complete branche groups based on the fact that a set of branches will always sum to 1\n",
    "1. Apply the formula $ P(A|B) = \\frac{P(A \\cap B)}{P(B)}$ to determine remaining probabilities\n",
    "    \n",
    " \n",
    "    "
   ]
  },
  {
   "cell_type": "markdown",
   "metadata": {},
   "source": [
    "Let's work through an example:\n",
    "\n",
    "What are the probabilities associated with each of the branches given that some of the folks in your company:\n",
    "\n",
    "* eat burgers OR don't eat burgers\n",
    "* eat dessert OR don't eat dessert\n",
    "\n",
    "We are given three initial facts to get us started:\n",
    "\n",
    "* $P(burger) = \\frac{2}{3}$ \n",
    "* $P(dessert \\ | \\ burger^\\prime) = \\frac{1}{4}$\n",
    "* $P(burger \\cap dessert) = \\frac{8}{15}$\n"
   ]
  },
  {
   "cell_type": "markdown",
   "metadata": {},
   "source": [
    "<img src='images/probtree_burger_dessert_1.jpg' width='600' >"
   ]
  },
  {
   "cell_type": "markdown",
   "metadata": {},
   "source": [
    "If we start to apply the values we know and take advantage of the fact that each pair of branches must sum to 1.0, we get the following:"
   ]
  },
  {
   "cell_type": "markdown",
   "metadata": {},
   "source": [
    "<img src='images/probtree_burger_dessert_2.jpg' width='600' >"
   ]
  },
  {
   "cell_type": "markdown",
   "metadata": {},
   "source": [
    "From there, we know that the `burger - dessert` branch has a total probability of 8/15. \n",
    "\n",
    "$\\large P(dessert \\cap burger) = P(dessert \\ | \\ burger) \\times P(burger)$\n",
    "\n",
    "$\\large \\frac{8}{15} = P(dessert \\ | \\ burger) \\times \\frac{2}{3}$\n",
    "\n",
    "$\\large \\frac{8}{15} \\times \\frac{3}{2} = P(dessert \\ | \\ burger)$\n",
    "\n",
    "\n",
    "$\\large \\frac{4}{5} = P(dessert \\ | \\ burger)$\n",
    "\n",
    "We can the plug in this value and the calculate the value of the opposite branch based on the fact that they sum to 1.0.\n"
   ]
  },
  {
   "cell_type": "markdown",
   "metadata": {},
   "source": [
    "<img src='images/probtree_burger_dessert_3.jpg' width='600' >"
   ]
  },
  {
   "cell_type": "markdown",
   "metadata": {},
   "source": [
    "From there, we can multiply each probability for each branch of the tree:\n",
    "\n",
    "GIVEN: $\\frac{2}{3} \\times \\frac{4}{5} = \\frac{8}{15} = 0.53333$\n",
    "\n",
    "$\\frac{2}{3} \\times \\frac{1}{5} = \\frac{2}{15} = 0.13333$\n",
    "\n",
    "$\\frac{1}{3} \\times \\frac{1}{4} = \\frac{1}{12} = 0.08333$\n",
    "\n",
    "$\\frac{1}{3} \\times \\frac{3}{4} = \\frac{3}{12} = 0.25$"
   ]
  },
  {
   "cell_type": "code",
   "execution_count": 59,
   "metadata": {},
   "outputs": [
    {
     "data": {
      "text/plain": [
       "1.0"
      ]
     },
     "execution_count": 59,
     "metadata": {},
     "output_type": "execute_result"
    }
   ],
   "source": [
    "# And we can see that all the branches sum to one.\n",
    "branch1 = P(3, event_size=2) * P(5, event_size=4) \n",
    "branch2 = P(3, event_size=2) * P(5, event_size=1) \n",
    "branch3 = P(3, event_size=1) * P(4, event_size=1) \n",
    "branch4 = P(3, event_size=1) * P(4, event_size=3) \n",
    "\n",
    "round(sum([branch1, branch2, branch3, branch4]), 3)"
   ]
  },
  {
   "cell_type": "markdown",
   "metadata": {},
   "source": [
    "<img src='images/probtree_burger_dessert_4.jpg' width='600' >"
   ]
  },
  {
   "cell_type": "code",
   "execution_count": null,
   "metadata": {},
   "outputs": [],
   "source": []
  },
  {
   "cell_type": "code",
   "execution_count": null,
   "metadata": {},
   "outputs": [],
   "source": []
  },
  {
   "cell_type": "code",
   "execution_count": null,
   "metadata": {},
   "outputs": [],
   "source": []
  },
  {
   "cell_type": "code",
   "execution_count": null,
   "metadata": {},
   "outputs": [],
   "source": []
  },
  {
   "cell_type": "code",
   "execution_count": null,
   "metadata": {},
   "outputs": [],
   "source": []
  },
  {
   "cell_type": "code",
   "execution_count": null,
   "metadata": {},
   "outputs": [],
   "source": []
  },
  {
   "cell_type": "code",
   "execution_count": null,
   "metadata": {},
   "outputs": [],
   "source": []
  },
  {
   "cell_type": "code",
   "execution_count": null,
   "metadata": {},
   "outputs": [],
   "source": []
  },
  {
   "cell_type": "code",
   "execution_count": null,
   "metadata": {},
   "outputs": [],
   "source": []
  },
  {
   "cell_type": "code",
   "execution_count": null,
   "metadata": {},
   "outputs": [],
   "source": []
  },
  {
   "cell_type": "markdown",
   "metadata": {},
   "source": [
    "## Experience Points\n",
    "---"
   ]
  },
  {
   "cell_type": "markdown",
   "metadata": {},
   "source": [
    "### Complete the following exercises:"
   ]
  },
  {
   "cell_type": "markdown",
   "metadata": {},
   "source": [
    "Fill out the empty probabilities on this probability tree and then use Python to ensure that the probability for all the branches sums to 1.0. \n",
    "\n",
    "You are given data related to the probability that a staff member is right OR left-handed and whether a staff member is a programmer OR not.\n",
    "\n",
    "In addition, you are provided the following empty probability tree and these initial values:\n",
    "\n",
    "* $P(left) = \\frac{1}{10}$ \n",
    "* $P(programmer^\\prime \\ | \\ left) = \\frac{7}{9}$\n",
    "* $P(right \\cap programmer^\\prime) = \\frac{54}{70}$\n",
    "\n",
    "\n"
   ]
  },
  {
   "cell_type": "markdown",
   "metadata": {},
   "source": [
    "<img src='images/probtree_blank_1.jpg' width='600' >"
   ]
  },
  {
   "cell_type": "code",
   "execution_count": null,
   "metadata": {},
   "outputs": [],
   "source": []
  },
  {
   "cell_type": "markdown",
   "metadata": {},
   "source": [
    "Create a probability tree given the following information... about a study on chimpanzees and gorillas and their respective right/left-handedness.\n",
    "\n",
    "* $P(chimp) = \\frac{13}{19}$ \n",
    "* $P(chimp \\cap left) = \\frac{26}{171}$\n",
    "* $P(left \\ | \\ gorilla) = \\frac{1}{11}$\n"
   ]
  },
  {
   "cell_type": "code",
   "execution_count": null,
   "metadata": {},
   "outputs": [],
   "source": []
  },
  {
   "cell_type": "code",
   "execution_count": null,
   "metadata": {},
   "outputs": [],
   "source": []
  },
  {
   "cell_type": "code",
   "execution_count": null,
   "metadata": {},
   "outputs": [],
   "source": []
  },
  {
   "cell_type": "code",
   "execution_count": null,
   "metadata": {},
   "outputs": [],
   "source": []
  },
  {
   "cell_type": "markdown",
   "metadata": {},
   "source": [
    "If you (and your partner, if you're working in pairs) are done, then you can put your green sticky up! This is how we know you're done.\n",
    "\n",
    "<img src='../images/green_sticky.300px.png' width='200' style='float:left'>"
   ]
  },
  {
   "cell_type": "code",
   "execution_count": null,
   "metadata": {},
   "outputs": [],
   "source": []
  },
  {
   "cell_type": "code",
   "execution_count": null,
   "metadata": {},
   "outputs": [],
   "source": []
  },
  {
   "cell_type": "markdown",
   "metadata": {},
   "source": [
    "# Law of total probability and Bayes Theorem\n",
    "---"
   ]
  },
  {
   "cell_type": "code",
   "execution_count": null,
   "metadata": {},
   "outputs": [],
   "source": []
  },
  {
   "cell_type": "markdown",
   "metadata": {},
   "source": [
    "## Experience Points\n",
    "---"
   ]
  },
  {
   "cell_type": "markdown",
   "metadata": {},
   "source": [
    "### Complete the following exercises:"
   ]
  },
  {
   "cell_type": "code",
   "execution_count": null,
   "metadata": {},
   "outputs": [],
   "source": []
  },
  {
   "cell_type": "markdown",
   "metadata": {},
   "source": [
    "If you (and your partner, if you're working in pairs) are done, then you can put your green sticky up! This is how we know you're done.\n",
    "\n",
    "<img src='../images/green_sticky.300px.png' width='200' style='float:left'>"
   ]
  },
  {
   "cell_type": "code",
   "execution_count": null,
   "metadata": {},
   "outputs": [],
   "source": []
  },
  {
   "cell_type": "code",
   "execution_count": null,
   "metadata": {},
   "outputs": [],
   "source": []
  },
  {
   "cell_type": "code",
   "execution_count": null,
   "metadata": {},
   "outputs": [],
   "source": []
  },
  {
   "cell_type": "code",
   "execution_count": null,
   "metadata": {},
   "outputs": [],
   "source": []
  },
  {
   "cell_type": "code",
   "execution_count": null,
   "metadata": {},
   "outputs": [],
   "source": []
  },
  {
   "cell_type": "code",
   "execution_count": null,
   "metadata": {},
   "outputs": [],
   "source": []
  },
  {
   "cell_type": "code",
   "execution_count": null,
   "metadata": {},
   "outputs": [],
   "source": []
  },
  {
   "cell_type": "code",
   "execution_count": null,
   "metadata": {},
   "outputs": [],
   "source": []
  },
  {
   "cell_type": "code",
   "execution_count": null,
   "metadata": {},
   "outputs": [],
   "source": []
  },
  {
   "cell_type": "code",
   "execution_count": null,
   "metadata": {},
   "outputs": [],
   "source": []
  },
  {
   "cell_type": "code",
   "execution_count": null,
   "metadata": {},
   "outputs": [],
   "source": []
  },
  {
   "cell_type": "code",
   "execution_count": null,
   "metadata": {},
   "outputs": [],
   "source": []
  },
  {
   "cell_type": "code",
   "execution_count": null,
   "metadata": {},
   "outputs": [],
   "source": []
  },
  {
   "cell_type": "code",
   "execution_count": null,
   "metadata": {},
   "outputs": [],
   "source": []
  },
  {
   "cell_type": "code",
   "execution_count": null,
   "metadata": {},
   "outputs": [],
   "source": []
  },
  {
   "cell_type": "code",
   "execution_count": null,
   "metadata": {},
   "outputs": [],
   "source": []
  },
  {
   "cell_type": "markdown",
   "metadata": {},
   "source": [
    "Let's presume we have a spinner wheel with multiple wedges:\n",
    "\n",
    "* numbered 1 through 8\n",
    "* colered blue and white\n",
    "* labeled X and XX\n",
    "* colored black\n",
    "\n",
    "#### ---------------------------------------\n",
    "* symbols: {x, xx, 1, 2, 3, 4, 5, 6, 7, 8}\n",
    "* odd:     {1, 3, 5, 7}\n",
    "* even:    {2, 4, 6, 8}\n",
    "* white:   {2, 3, 6, 7}\n",
    "* blue:    {1, 4, 5, 8}"
   ]
  },
  {
   "cell_type": "markdown",
   "metadata": {},
   "source": [
    "This spinner wheel is used for a simple gambling game... much like roulette.\n",
    "\n",
    "You are allowed to put a bet on one or more wedges. For example, you can bet that the spinner will land:\n",
    "\n",
    "* on a blue wedge\n",
    "* on an odd numbered wedge\n",
    "* on an odd & blue wedge\n",
    "* or on either of the black (X, XX) wedges..."
   ]
  },
  {
   "cell_type": "code",
   "execution_count": 7,
   "metadata": {},
   "outputs": [
    {
     "data": {
      "text/plain": [
       "0.4"
      ]
     },
     "execution_count": 7,
     "metadata": {},
     "output_type": "execute_result"
    }
   ],
   "source": [
    "# probability of spinning an odd number\n",
    "\n",
    "P(10, [1, 3, 5, 7])"
   ]
  },
  {
   "cell_type": "code",
   "execution_count": 9,
   "metadata": {
    "collapsed": true
   },
   "outputs": [
    {
     "name": "stdout",
     "output_type": "stream",
     "text": [
      "0.4\n",
      "0.4\n",
      "0.8\n"
     ]
    }
   ],
   "source": [
    "# probability of spinning an even OR odd number...\n",
    "\n",
    "even = P(10, [2, 4, 6, 8])\n",
    "odd = P(10, [1, 3, 5, 7])\n",
    "print(even)\n",
    "print(odd)\n",
    "print(even + odd)"
   ]
  },
  {
   "cell_type": "code",
   "execution_count": 10,
   "metadata": {
    "collapsed": true
   },
   "outputs": [
    {
     "data": {
      "text/plain": [
       "0.2"
      ]
     },
     "execution_count": 10,
     "metadata": {},
     "output_type": "execute_result"
    }
   ],
   "source": [
    "# probability of spinning either black wedge\n",
    "# NOTE: our function does not care that the elements provided are strings, since it just counts them.\n",
    "\n",
    "probability(10, ['X', 'XX'])"
   ]
  },
  {
   "cell_type": "code",
   "execution_count": 2,
   "metadata": {
    "collapsed": true
   },
   "outputs": [],
   "source": [
    "## QUESTION... what else needs to go here?"
   ]
  },
  {
   "cell_type": "code",
   "execution_count": null,
   "metadata": {},
   "outputs": [],
   "source": []
  },
  {
   "cell_type": "code",
   "execution_count": 122,
   "metadata": {},
   "outputs": [],
   "source": [
    "# order matters\n",
    "# you have a four digit pin: what is the probability that none of the digits repeat?"
   ]
  },
  {
   "cell_type": "markdown",
   "metadata": {},
   "source": [
    "# total number of pins:\n",
    "\n",
    "n(S) = 10 * 10 * 10 * 10 = 10000\n",
    "n(E) = itertools.permutations(range(10), 4)"
   ]
  },
  {
   "cell_type": "code",
   "execution_count": 123,
   "metadata": {},
   "outputs": [
    {
     "data": {
      "text/plain": [
       "5040"
      ]
     },
     "execution_count": 123,
     "metadata": {},
     "output_type": "execute_result"
    }
   ],
   "source": [
    "len(list(itertools.permutations(range(10), 4)))"
   ]
  },
  {
   "cell_type": "code",
   "execution_count": null,
   "metadata": {},
   "outputs": [],
   "source": [
    "# order doesn't matter\n",
    "# you play the lottery: 36 balls with numbers from 1 to 36\n",
    "#     if five numbers match, you win.\n",
    "#     it does not matter which order you draw the numbers in..."
   ]
  },
  {
   "cell_type": "code",
   "execution_count": 125,
   "metadata": {},
   "outputs": [
    {
     "ename": "SyntaxError",
     "evalue": "invalid syntax (<ipython-input-125-e23c68a3c1b2>, line 1)",
     "output_type": "error",
     "traceback": [
      "\u001b[0;36m  File \u001b[0;32m\"<ipython-input-125-e23c68a3c1b2>\"\u001b[0;36m, line \u001b[0;32m1\u001b[0m\n\u001b[0;31m    n(S) = 36C5 = itertools.combinations(range(36), 5)\u001b[0m\n\u001b[0m              ^\u001b[0m\n\u001b[0;31mSyntaxError\u001b[0m\u001b[0;31m:\u001b[0m invalid syntax\n"
     ]
    }
   ],
   "source": [
    "\n",
    "n(S) = 36C5 = itertools.combinations(range(36), 5)\n",
    "n(E) = 6C6 = itertools.combinations(range(6), 6)    # 1"
   ]
  },
  {
   "cell_type": "code",
   "execution_count": 128,
   "metadata": {},
   "outputs": [
    {
     "data": {
      "text/plain": [
       "376992"
      ]
     },
     "execution_count": 128,
     "metadata": {},
     "output_type": "execute_result"
    }
   ],
   "source": [
    "len(list(itertools.combinations(range(36), 5)))"
   ]
  },
  {
   "cell_type": "code",
   "execution_count": null,
   "metadata": {},
   "outputs": [],
   "source": []
  },
  {
   "cell_type": "code",
   "execution_count": null,
   "metadata": {},
   "outputs": [],
   "source": []
  },
  {
   "cell_type": "code",
   "execution_count": 130,
   "metadata": {},
   "outputs": [
    {
     "data": {
      "text/plain": [
       "6"
      ]
     },
     "execution_count": 130,
     "metadata": {},
     "output_type": "execute_result"
    }
   ],
   "source": [
    "len(list(itertools.combinations(range(6), 5)))"
   ]
  },
  {
   "cell_type": "code",
   "execution_count": 131,
   "metadata": {},
   "outputs": [
    {
     "data": {
      "text/plain": [
       "36"
      ]
     },
     "execution_count": 131,
     "metadata": {},
     "output_type": "execute_result"
    }
   ],
   "source": [
    "len(list(itertools.combinations(range(36), 1)))"
   ]
  },
  {
   "cell_type": "code",
   "execution_count": 132,
   "metadata": {},
   "outputs": [
    {
     "data": {
      "text/plain": [
       "216"
      ]
     },
     "execution_count": 132,
     "metadata": {},
     "output_type": "execute_result"
    }
   ],
   "source": [
    "36 * 6"
   ]
  },
  {
   "cell_type": "code",
   "execution_count": null,
   "metadata": {},
   "outputs": [],
   "source": []
  },
  {
   "cell_type": "code",
   "execution_count": 133,
   "metadata": {},
   "outputs": [],
   "source": [
    "# 10 questions (balls)\n",
    "# 4 answers each (10 nums per ball)\n",
    "# eight correct answers (8 correct balls)"
   ]
  },
  {
   "cell_type": "code",
   "execution_count": 134,
   "metadata": {},
   "outputs": [
    {
     "data": {
      "text/plain": [
       "45"
      ]
     },
     "execution_count": 134,
     "metadata": {},
     "output_type": "execute_result"
    }
   ],
   "source": [
    "\n",
    "n(S) = 4 * 4 * 4 * 4 ... * 4 = 4 ** 10\n",
    "\n",
    "\n",
    "len(list(itertools.combinations(range(10), 8)))\n"
   ]
  },
  {
   "cell_type": "code",
   "execution_count": 138,
   "metadata": {},
   "outputs": [
    {
     "name": "stdout",
     "output_type": "stream",
     "text": [
      "9.5367431640625e-07\n",
      "9.5367431640625e-06\n",
      "4.291534423828125e-05\n",
      "0.00011444091796875\n",
      "0.0002002716064453125\n",
      "0.000240325927734375\n",
      "0.0002002716064453125\n",
      "0.00011444091796875\n",
      "4.291534423828125e-05\n",
      "9.5367431640625e-06\n",
      "9.5367431640625e-07\n"
     ]
    }
   ],
   "source": [
    "nS = 4 ** 10\n",
    "for num in range(0, 11):\n",
    "    print(len(list(itertools.combinations(range(10), num)))/nS)"
   ]
  },
  {
   "cell_type": "code",
   "execution_count": null,
   "metadata": {},
   "outputs": [],
   "source": []
  },
  {
   "cell_type": "markdown",
   "metadata": {},
   "source": [
    "IDEAS:\n",
    "    \n",
    "draw x cards ... prob of getting specific card\n",
    "draw x cards ... prob of getting y number of specific cards\n",
    "draw x cards ... prob of getting y number and z number of specific cards\n",
    "\n"
   ]
  },
  {
   "cell_type": "code",
   "execution_count": null,
   "metadata": {},
   "outputs": [],
   "source": []
  },
  {
   "cell_type": "code",
   "execution_count": null,
   "metadata": {},
   "outputs": [],
   "source": []
  },
  {
   "cell_type": "code",
   "execution_count": null,
   "metadata": {},
   "outputs": [],
   "source": []
  },
  {
   "cell_type": "code",
   "execution_count": null,
   "metadata": {},
   "outputs": [],
   "source": []
  },
  {
   "cell_type": "code",
   "execution_count": null,
   "metadata": {},
   "outputs": [],
   "source": []
  },
  {
   "cell_type": "markdown",
   "metadata": {},
   "source": [
    "In looking at the sample space... a primary concern is being able to accurately identify or calculate the number of arrangements of items.\n",
    "\n",
    "Two difficulties that we run into include:\n",
    "\n",
    "* dealing with duplicates\n",
    "* arranging by individual items versus types of items\n",
    "\n",
    "Two help us with calculating the number of arrangements in a sample space, we will look at factorials, permutations and combinations (with and without replacement)."
   ]
  },
  {
   "cell_type": "markdown",
   "metadata": {},
   "source": [
    "# Factorials"
   ]
  },
  {
   "cell_type": "markdown",
   "metadata": {},
   "source": [
    "A **factorial** is the product of every whole number from `n` to 1. Factorials are written in the following manner:\n",
    "\n",
    "$\\Large n!$\n",
    "\n",
    "For example:\n",
    "\n",
    "$\\Large 2! = 2 \\times 1 = 2$\n",
    "\n",
    "$\\Large 3! = 3 \\times 2 \\times 1 = 6$\n",
    "\n",
    "$\\Large 4! = 4 \\times 3 \\times 2 \\times 1 = 24$\n",
    "\n",
    "$\\Large 10! = 10 \\times 9 \\times 8 \\times 7 \\times 6 \\times 5 \\times 4 \\times 3 \\times 2 \\times 1 = 3628800$"
   ]
  },
  {
   "cell_type": "markdown",
   "metadata": {},
   "source": [
    "Factorials present an easy way to write certain large numbers and are often used in statistics, especially in terms of calculating permutations and combinations.\n",
    "\n",
    "A great attribute of factorials is that when performing math with factorials, you can often simplify your work greatly if you need to do things by hand OR want to get a rough order of magnitude. In this example, the :\n",
    "\n",
    "$\\Large \\frac{5!}{3!} = \\frac{5 \\times 4 \\times 3 \\times 2 \\times 1}{3 \\times 2 \\times 1} = \\frac{5 \\times 4}{1}  = 20$\n",
    "\n",
    "$\\Large \\frac{5!  \\times 4!}{3! \\times 2!} =\n",
    " \\frac{5 \\times 4 \\times 3 \\times 2 \\times 1}{3 \\times 2 \\times 1 } \\times \\frac{4 \\times 3 \\times 2 \\times 1 }{\\times 2 \\times 1}\n",
    "      {} = \\frac{5 \\times 4}{1} \\times \\frac{4 \\times 3}{1} = 20 \\times 12 = 240$\n",
    "\n"
   ]
  },
  {
   "cell_type": "markdown",
   "metadata": {},
   "source": [
    "# Permutations and Combinations"
   ]
  },
  {
   "cell_type": "markdown",
   "metadata": {},
   "source": []
  },
  {
   "cell_type": "markdown",
   "metadata": {},
   "source": [
    "## Definitions:\n",
    "\n",
    "\n",
    "\n",
    "\n",
    "\n",
    "* permutations                    # (w/o rep)\n",
    "\n",
    "$\\Large\\frac{n!}{(n - k)!}$\n",
    "\n",
    "* combinations\n",
    "\n",
    "$\\Large\\frac{n!}{k!(n - k)!}$\n",
    "\n",
    "* product\n",
    "\n",
    "$\\Large n^k$\n",
    "\n",
    "* combinations with replacement\n",
    "\n",
    "$\\Large\\frac{(k + n - 1)!}{k!(n - 1)!}$"
   ]
  },
  {
   "cell_type": "markdown",
   "metadata": {},
   "source": [
    "||Without replacement|With replacement|\n",
    "|:-|:-|:-|\n",
    "|**Order matters**|permutations|product???|\n",
    "|**Order doesn't matter**|combinations|combinations with rep|"
   ]
  },
  {
   "cell_type": "code",
   "execution_count": 109,
   "metadata": {},
   "outputs": [],
   "source": [
    "# handmade calcs?\n",
    "\n",
    "# factorial \n",
    "\n",
    "def factorial(n):\n",
    "    \n",
    "    \n",
    "    if n == 1:\n",
    "        return 1\n",
    "    elif n >= 2:\n",
    "        return n * factorial(n - 1)\n",
    "    elif n == 0:\n",
    "        return 1"
   ]
  },
  {
   "cell_type": "code",
   "execution_count": 110,
   "metadata": {},
   "outputs": [
    {
     "data": {
      "text/plain": [
       "6.0"
      ]
     },
     "execution_count": 110,
     "metadata": {},
     "output_type": "execute_result"
    }
   ],
   "source": [
    "# perms\n",
    "\n",
    "factorial(3) / factorial(3 - 2)"
   ]
  },
  {
   "cell_type": "code",
   "execution_count": 111,
   "metadata": {},
   "outputs": [
    {
     "data": {
      "text/plain": [
       "3.0"
      ]
     },
     "execution_count": 111,
     "metadata": {},
     "output_type": "execute_result"
    }
   ],
   "source": [
    "# combs\n",
    "\n",
    "factorial(3) / (factorial(2) * factorial(3 - 2))"
   ]
  },
  {
   "cell_type": "code",
   "execution_count": 112,
   "metadata": {},
   "outputs": [
    {
     "data": {
      "text/plain": [
       "9"
      ]
     },
     "execution_count": 112,
     "metadata": {},
     "output_type": "execute_result"
    }
   ],
   "source": [
    "# prod\n",
    "\n",
    "3 ** 2"
   ]
  },
  {
   "cell_type": "code",
   "execution_count": 113,
   "metadata": {},
   "outputs": [
    {
     "data": {
      "text/plain": [
       "6.0"
      ]
     },
     "execution_count": 113,
     "metadata": {},
     "output_type": "execute_result"
    }
   ],
   "source": [
    "# combs with rep...\n",
    "\n",
    "factorial(2 + 3 - 1) / (factorial(2) * factorial(3 - 1))"
   ]
  },
  {
   "cell_type": "code",
   "execution_count": 114,
   "metadata": {},
   "outputs": [],
   "source": [
    "# Warning... using a roll-your-solution is often not the best plan\n",
    "#            if performance is goal, but can be useful to learn new things.\n",
    "#            # 32-bit integers max out around 12!\n",
    "#            # 64-bit integers max out around 20!\n",
    "\n",
    "\n",
    "from math import factorial as f"
   ]
  },
  {
   "cell_type": "code",
   "execution_count": 115,
   "metadata": {},
   "outputs": [
    {
     "name": "stdout",
     "output_type": "stream",
     "text": [
      "7.27 µs ± 81.3 ns per loop (mean ± std. dev. of 7 runs, 100000 loops each)\n"
     ]
    }
   ],
   "source": [
    "%timeit factorial(40)\n",
    "\n"
   ]
  },
  {
   "cell_type": "code",
   "execution_count": 116,
   "metadata": {},
   "outputs": [
    {
     "name": "stdout",
     "output_type": "stream",
     "text": [
      "664 ns ± 6.86 ns per loop (mean ± std. dev. of 7 runs, 1000000 loops each)\n"
     ]
    }
   ],
   "source": [
    "%timeit f(80)"
   ]
  },
  {
   "cell_type": "code",
   "execution_count": null,
   "metadata": {},
   "outputs": [],
   "source": []
  },
  {
   "cell_type": "code",
   "execution_count": null,
   "metadata": {},
   "outputs": [],
   "source": []
  },
  {
   "cell_type": "code",
   "execution_count": null,
   "metadata": {},
   "outputs": [],
   "source": []
  },
  {
   "cell_type": "code",
   "execution_count": 117,
   "metadata": {},
   "outputs": [
    {
     "name": "stdout",
     "output_type": "stream",
     "text": [
      "[(1, 2), (1, 3), (2, 1), (2, 3), (3, 1), (3, 2)]\n",
      "[(1, 2), (1, 3), (2, 3)]\n",
      "[(1, 1), (1, 2), (1, 3), (2, 1), (2, 2), (2, 3), (3, 1), (3, 2), (3, 3)]\n",
      "[(1, 1), (1, 2), (1, 3), (2, 2), (2, 3), (3, 3)]\n"
     ]
    }
   ],
   "source": [
    "l = [1, 2, 3]\n",
    "\n",
    "\n",
    "print(list(itertools.permutations(l, 2)))\n",
    "print(list(itertools.combinations(l, 2)))\n",
    "\n",
    "\n",
    "print(list(itertools.product(l, repeat=2)))\n",
    "print(list(itertools.combinations_with_replacement(l, 2)))"
   ]
  },
  {
   "cell_type": "code",
   "execution_count": 71,
   "metadata": {},
   "outputs": [],
   "source": [
    "i = itertools.product(l, repeat=2)"
   ]
  },
  {
   "cell_type": "code",
   "execution_count": 85,
   "metadata": {},
   "outputs": [
    {
     "name": "stdout",
     "output_type": "stream",
     "text": [
      "[(1, 2, 3), (1, 3, 2), (2, 1, 3), (2, 3, 1), (3, 1, 2), (3, 2, 1)]\n",
      "[(1, 2, 3)]\n",
      "[(1, 1, 1), (1, 1, 2), (1, 1, 3), (1, 2, 1), (1, 2, 2), (1, 2, 3), (1, 3, 1), (1, 3, 2), (1, 3, 3), (2, 1, 1), (2, 1, 2), (2, 1, 3), (2, 2, 1), (2, 2, 2), (2, 2, 3), (2, 3, 1), (2, 3, 2), (2, 3, 3), (3, 1, 1), (3, 1, 2), (3, 1, 3), (3, 2, 1), (3, 2, 2), (3, 2, 3), (3, 3, 1), (3, 3, 2), (3, 3, 3)]\n",
      "[(1, 1, 1), (1, 1, 2), (1, 1, 3), (1, 2, 2), (1, 2, 3), (1, 3, 3), (2, 2, 2), (2, 2, 3), (2, 3, 3), (3, 3, 3)]\n"
     ]
    }
   ],
   "source": [
    "print(list(itertools.permutations(l, 3)))\n",
    "print(list(itertools.combinations(l, 3)))\n",
    "\n",
    "\n",
    "print(list(itertools.product(l, repeat=3)))\n",
    "print(list(itertools.combinations_with_replacement(l, 3)))"
   ]
  },
  {
   "cell_type": "code",
   "execution_count": 4,
   "metadata": {},
   "outputs": [],
   "source": [
    "# Standard library ... \n",
    "\n",
    "import itertools\n",
    "# combinations\n",
    "# permutations\n",
    "# product\n",
    "# combos with replacement"
   ]
  },
  {
   "cell_type": "code",
   "execution_count": 5,
   "metadata": {},
   "outputs": [
    {
     "data": {
      "text/plain": [
       "itertools.product"
      ]
     },
     "execution_count": 5,
     "metadata": {},
     "output_type": "execute_result"
    }
   ],
   "source": [
    "itertools.combinations\n",
    "itertools.combinations_with_replacement\n",
    "itertools.permutations\n",
    "itertools.product\n"
   ]
  },
  {
   "cell_type": "code",
   "execution_count": null,
   "metadata": {},
   "outputs": [],
   "source": []
  },
  {
   "cell_type": "markdown",
   "metadata": {},
   "source": [
    "What does all this mean, anyway...\n"
   ]
  },
  {
   "cell_type": "markdown",
   "metadata": {},
   "source": [
    "Thus far, we have looked a lot of examples where we generally just focused on an OR specific elements out of a sample space:\n",
    "\n",
    "probability of a 3 out of 6 on a d6\n",
    "probability of an even number out on a d20\n",
    "\n",
    "Much of probability is not that simple..."
   ]
  },
  {
   "cell_type": "markdown",
   "metadata": {},
   "source": [
    "For example, in a superhero foot race, how many different ways can the superheroes cross the finish line would be an example of looking at a problem where order matters:\n",
    "\n",
    "||First, Second, Third|\n",
    "|:--|:--|\n",
    "|Order 1|iron man, black widow, black panther|\n",
    "|Order 2|iron man, black panther, black widow|\n",
    "|Order 3|black widow, iron man, black panther|\n",
    "|Order 4|black widow, black panther, iron man|\n",
    "|Order 5|black panther, iron man, black widow|\n",
    "|Order 6|black panther, black widow, iron man|"
   ]
  },
  {
   "cell_type": "markdown",
   "metadata": {},
   "source": [
    "Let's use our newfound skills to calculate this:"
   ]
  },
  {
   "cell_type": "code",
   "execution_count": 92,
   "metadata": {},
   "outputs": [],
   "source": [
    "heroes = ['iron man', 'black widow', 'black panther']"
   ]
  },
  {
   "cell_type": "markdown",
   "metadata": {},
   "source": [
    "First we will look at all the possible outcomes and count those outcomes:\n",
    "\n",
    "* What are the possible orderings (permutations)?\n",
    "* How many possible ordering are there (i.e. what is the size of the sample space)?"
   ]
  },
  {
   "cell_type": "markdown",
   "metadata": {},
   "source": [
    "In this case, we can find out how many possible outcomes are available by using our function `factorial()`, but this is somewhat limiting."
   ]
  },
  {
   "cell_type": "code",
   "execution_count": 100,
   "metadata": {},
   "outputs": [
    {
     "name": "stdout",
     "output_type": "stream",
     "text": [
      "6\n"
     ]
    }
   ],
   "source": [
    "print(factorial(len(heroes)))"
   ]
  },
  {
   "cell_type": "markdown",
   "metadata": {},
   "source": [
    "This is somewhat limiting in that we don't know the order of the items and such.\n",
    "\n",
    "To actually get the ordering "
   ]
  },
  {
   "cell_type": "code",
   "execution_count": 120,
   "metadata": {},
   "outputs": [
    {
     "name": "stdout",
     "output_type": "stream",
     "text": [
      "[('iron man', 'black widow', 'black panther'),\n",
      " ('iron man', 'black panther', 'black widow'),\n",
      " ('black widow', 'iron man', 'black panther'),\n",
      " ('black widow', 'black panther', 'iron man'),\n",
      " ('black panther', 'iron man', 'black widow'),\n",
      " ('black panther', 'black widow', 'iron man')]\n",
      "\n",
      "Total number of permutations: 6\n"
     ]
    }
   ],
   "source": [
    "import pprint as pp\n",
    "heroes = ['iron man', 'black widow', 'black panther']\n",
    "S = list(itertools.permutations(heroes, 3))\n",
    "pp.pprint(S)\n",
    "print()\n",
    "print('Total number of permutations:', len(S))"
   ]
  },
  {
   "cell_type": "code",
   "execution_count": null,
   "metadata": {},
   "outputs": [],
   "source": []
  },
  {
   "cell_type": "code",
   "execution_count": 121,
   "metadata": {},
   "outputs": [
    {
     "name": "stdout",
     "output_type": "stream",
     "text": [
      "[('iron man', 'black widow', 'black panther'),\n",
      " ('iron man', 'black widow', 'captain america'),\n",
      " ('iron man', 'black widow', 'spiderman'),\n",
      " ('iron man', 'black panther', 'captain america'),\n",
      " ('iron man', 'black panther', 'spiderman'),\n",
      " ('iron man', 'captain america', 'spiderman'),\n",
      " ('black widow', 'black panther', 'captain america'),\n",
      " ('black widow', 'black panther', 'spiderman'),\n",
      " ('black widow', 'captain america', 'spiderman'),\n",
      " ('black panther', 'captain america', 'spiderman')]\n",
      "\n",
      "Total number of permutations: 10\n"
     ]
    }
   ],
   "source": [
    "import pprint as pp\n",
    "heroes = ['iron man', 'black widow', 'black panther', 'captain america', 'spiderman']\n",
    "S = list(itertools.combinations(heroes, 3))\n",
    "pp.pprint(S)\n",
    "print()\n",
    "print('Total number of permutations:', len(S))"
   ]
  },
  {
   "cell_type": "code",
   "execution_count": null,
   "metadata": {},
   "outputs": [],
   "source": []
  },
  {
   "cell_type": "code",
   "execution_count": null,
   "metadata": {},
   "outputs": [],
   "source": []
  },
  {
   "cell_type": "code",
   "execution_count": null,
   "metadata": {},
   "outputs": [],
   "source": []
  },
  {
   "cell_type": "code",
   "execution_count": null,
   "metadata": {},
   "outputs": [],
   "source": []
  },
  {
   "cell_type": "code",
   "execution_count": null,
   "metadata": {},
   "outputs": [],
   "source": []
  },
  {
   "cell_type": "code",
   "execution_count": null,
   "metadata": {},
   "outputs": [],
   "source": []
  },
  {
   "cell_type": "code",
   "execution_count": null,
   "metadata": {},
   "outputs": [],
   "source": []
  },
  {
   "cell_type": "code",
   "execution_count": null,
   "metadata": {},
   "outputs": [],
   "source": []
  },
  {
   "cell_type": "code",
   "execution_count": null,
   "metadata": {},
   "outputs": [],
   "source": []
  },
  {
   "cell_type": "code",
   "execution_count": null,
   "metadata": {},
   "outputs": [],
   "source": []
  },
  {
   "cell_type": "code",
   "execution_count": 1,
   "metadata": {},
   "outputs": [],
   "source": [
    "## puzzle re: RSA Token?"
   ]
  },
  {
   "cell_type": "code",
   "execution_count": null,
   "metadata": {},
   "outputs": [],
   "source": []
  },
  {
   "cell_type": "code",
   "execution_count": null,
   "metadata": {},
   "outputs": [],
   "source": []
  },
  {
   "cell_type": "markdown",
   "metadata": {},
   "source": [
    "\n",
    "\n"
   ]
  },
  {
   "cell_type": "code",
   "execution_count": 24,
   "metadata": {
    "collapsed": true
   },
   "outputs": [
    {
     "name": "stdout",
     "output_type": "stream",
     "text": [
      "229 µs ± 5.35 µs per loop (mean ± std. dev. of 7 runs, 1000 loops each)\n"
     ]
    }
   ],
   "source": []
  },
  {
   "cell_type": "code",
   "execution_count": 25,
   "metadata": {
    "collapsed": true
   },
   "outputs": [
    {
     "name": "stdout",
     "output_type": "stream",
     "text": [
      "238 µs ± 6.95 µs per loop (mean ± std. dev. of 7 runs, 1000 loops each)\n"
     ]
    }
   ],
   "source": []
  },
  {
   "cell_type": "code",
   "execution_count": 28,
   "metadata": {
    "collapsed": true
   },
   "outputs": [
    {
     "name": "stdout",
     "output_type": "stream",
     "text": [
      "243 µs ± 8.91 µs per loop (mean ± std. dev. of 7 runs, 1000 loops each)\n"
     ]
    }
   ],
   "source": []
  },
  {
   "cell_type": "code",
   "execution_count": null,
   "metadata": {
    "collapsed": true
   },
   "outputs": [],
   "source": []
  },
  {
   "cell_type": "code",
   "execution_count": null,
   "metadata": {
    "collapsed": true
   },
   "outputs": [],
   "source": []
  },
  {
   "cell_type": "code",
   "execution_count": null,
   "metadata": {
    "collapsed": true
   },
   "outputs": [],
   "source": []
  },
  {
   "cell_type": "code",
   "execution_count": 26,
   "metadata": {
    "collapsed": true
   },
   "outputs": [],
   "source": [
    "import scipy.stats as sst\n"
   ]
  },
  {
   "cell_type": "code",
   "execution_count": null,
   "metadata": {
    "collapsed": true
   },
   "outputs": [],
   "source": []
  },
  {
   "cell_type": "code",
   "execution_count": 14,
   "metadata": {
    "collapsed": true
   },
   "outputs": [],
   "source": [
    "import random\n",
    "\n",
    "def six_sided_die():\n",
    "    '''Simulate a die roll. The set number of sides is 6.'''\n",
    "    return random.randint(1,6)"
   ]
  },
  {
   "cell_type": "code",
   "execution_count": 15,
   "metadata": {},
   "outputs": [
    {
     "data": {
      "text/plain": [
       "3"
      ]
     },
     "execution_count": 15,
     "metadata": {},
     "output_type": "execute_result"
    }
   ],
   "source": [
    "six_sided_die()"
   ]
  },
  {
   "cell_type": "code",
   "execution_count": 16,
   "metadata": {},
   "outputs": [
    {
     "name": "stdout",
     "output_type": "stream",
     "text": [
      "1\n",
      "2\n",
      "1\n",
      "4\n",
      "5\n",
      "3\n",
      "1\n",
      "4\n",
      "1\n",
      "6\n"
     ]
    }
   ],
   "source": [
    "for roll in range(10):\n",
    "    result = six_sided_die()\n",
    "    print(result)"
   ]
  },
  {
   "cell_type": "code",
   "execution_count": 17,
   "metadata": {
    "collapsed": true
   },
   "outputs": [],
   "source": [
    "def die(sides=6):\n",
    "    '''Simulate a die roll.  \n",
    "\n",
    "    sides: the number of sides, the default number is 6\n",
    "    '''\n",
    "    return random.randint(1, sides)"
   ]
  },
  {
   "cell_type": "code",
   "execution_count": 26,
   "metadata": {},
   "outputs": [
    {
     "name": "stdout",
     "output_type": "stream",
     "text": [
      "sides: 4 roll: 2\n",
      "sides: 6 roll: 2\n",
      "sides: 8 roll: 8\n",
      "sides: 10 roll: 9\n",
      "sides: 12 roll: 5\n",
      "sides: 20 roll: 12\n"
     ]
    }
   ],
   "source": [
    "for sides in [4, 6, 8, 10, 12, 20]:\n",
    "    result = die(sides=sides)\n",
    "    print('sides:', sides, 'roll:',result)\n"
   ]
  },
  {
   "cell_type": "code",
   "execution_count": null,
   "metadata": {
    "collapsed": true
   },
   "outputs": [],
   "source": []
  },
  {
   "cell_type": "code",
   "execution_count": 32,
   "metadata": {},
   "outputs": [
    {
     "name": "stdout",
     "output_type": "stream",
     "text": [
      "9\n",
      "1\n"
     ]
    }
   ],
   "source": [
    "for roll in range(2):\n",
    "    print(die(10))"
   ]
  },
  {
   "cell_type": "code",
   "execution_count": 36,
   "metadata": {
    "collapsed": true
   },
   "outputs": [],
   "source": [
    "def probability(num, sample_size):\n",
    "    return num / sample_size"
   ]
  },
  {
   "cell_type": "code",
   "execution_count": 37,
   "metadata": {},
   "outputs": [
    {
     "data": {
      "text/plain": [
       "0.5"
      ]
     },
     "execution_count": 37,
     "metadata": {},
     "output_type": "execute_result"
    }
   ],
   "source": [
    "probability(1, 2)"
   ]
  },
  {
   "cell_type": "code",
   "execution_count": 44,
   "metadata": {},
   "outputs": [
    {
     "name": "stdout",
     "output_type": "stream",
     "text": [
      "sample size: 10  probability 0.1\n",
      "sample size: 11  probability 0.09090909090909091\n",
      "sample size: 12  probability 0.08333333333333333\n",
      "sample size: 13  probability 0.07692307692307693\n",
      "sample size: 14  probability 0.07142857142857142\n",
      "sample size: 15  probability 0.06666666666666667\n",
      "sample size: 16  probability 0.0625\n",
      "sample size: 17  probability 0.058823529411764705\n",
      "sample size: 18  probability 0.05555555555555555\n",
      "sample size: 19  probability 0.05263157894736842\n",
      "sample size: 20  probability 0.05\n"
     ]
    }
   ],
   "source": [
    "for sample_size in range(10, 21):\n",
    "    print('sample size:', sample_size, ' probability', probability(1, sample_size))"
   ]
  },
  {
   "cell_type": "code",
   "execution_count": 45,
   "metadata": {},
   "outputs": [
    {
     "name": "stdout",
     "output_type": "stream",
     "text": [
      "0.5\n",
      "0.5\n",
      "0.5\n",
      "0.5\n",
      "0.5\n",
      "0.5\n",
      "0.5\n",
      "0.5\n",
      "0.5\n",
      "0.5\n"
     ]
    }
   ],
   "source": [
    "for flip in range(10):\n",
    "    print(probability(1, 2))"
   ]
  },
  {
   "cell_type": "code",
   "execution_count": 47,
   "metadata": {
    "collapsed": true
   },
   "outputs": [],
   "source": [
    "def coin_flip():\n",
    "    return random.choice(['Heads', 'Tails']) "
   ]
  },
  {
   "cell_type": "code",
   "execution_count": 48,
   "metadata": {},
   "outputs": [
    {
     "data": {
      "text/plain": [
       "'Tails'"
      ]
     },
     "execution_count": 48,
     "metadata": {},
     "output_type": "execute_result"
    }
   ],
   "source": [
    "coin_flip()"
   ]
  },
  {
   "cell_type": "code",
   "execution_count": 51,
   "metadata": {},
   "outputs": [
    {
     "name": "stdout",
     "output_type": "stream",
     "text": [
      "Heads\n",
      "Tails\n",
      "Tails\n",
      "Heads\n",
      "Tails\n",
      "Heads\n",
      "Heads\n",
      "Tails\n",
      "Heads\n",
      "Heads\n"
     ]
    }
   ],
   "source": [
    "for flip in range(10):\n",
    "    print(coin_flip())"
   ]
  },
  {
   "cell_type": "code",
   "execution_count": null,
   "metadata": {
    "collapsed": true
   },
   "outputs": [],
   "source": []
  },
  {
   "cell_type": "code",
   "execution_count": 52,
   "metadata": {},
   "outputs": [
    {
     "data": {
      "text/plain": [
       "0.05"
      ]
     },
     "execution_count": 52,
     "metadata": {},
     "output_type": "execute_result"
    }
   ],
   "source": [
    "probability(1, 5) * probability(1, 4)"
   ]
  },
  {
   "cell_type": "code",
   "execution_count": 55,
   "metadata": {},
   "outputs": [
    {
     "data": {
      "text/plain": [
       "0.13333333333333333"
      ]
     },
     "execution_count": 55,
     "metadata": {},
     "output_type": "execute_result"
    }
   ],
   "source": [
    "probability(2, 6) * probability(2, 5)"
   ]
  },
  {
   "cell_type": "code",
   "execution_count": null,
   "metadata": {
    "collapsed": true
   },
   "outputs": [],
   "source": []
  },
  {
   "cell_type": "code",
   "execution_count": null,
   "metadata": {
    "collapsed": true
   },
   "outputs": [],
   "source": []
  },
  {
   "cell_type": "code",
   "execution_count": null,
   "metadata": {
    "collapsed": true
   },
   "outputs": [],
   "source": [
    "# prob of two fours given second is four"
   ]
  },
  {
   "cell_type": "code",
   "execution_count": null,
   "metadata": {
    "collapsed": true
   },
   "outputs": [],
   "source": [
    "# prob of two fours given either is a four"
   ]
  },
  {
   "cell_type": "code",
   "execution_count": null,
   "metadata": {
    "collapsed": true
   },
   "outputs": [],
   "source": []
  },
  {
   "cell_type": "code",
   "execution_count": null,
   "metadata": {
    "collapsed": true
   },
   "outputs": [],
   "source": []
  },
  {
   "cell_type": "code",
   "execution_count": null,
   "metadata": {
    "collapsed": true
   },
   "outputs": [],
   "source": []
  },
  {
   "cell_type": "code",
   "execution_count": 57,
   "metadata": {
    "collapsed": true,
    "scrolled": true
   },
   "outputs": [],
   "source": [
    "def random_kid():\n",
    "    return random.choice(['boy', 'girl'])\n"
   ]
  },
  {
   "cell_type": "code",
   "execution_count": 58,
   "metadata": {
    "collapsed": true
   },
   "outputs": [],
   "source": [
    "both_girls = 0\n",
    "older_girl = 0\n",
    "either_girl = 0\n",
    "\n",
    "random.seed(0)\n"
   ]
  },
  {
   "cell_type": "code",
   "execution_count": 59,
   "metadata": {},
   "outputs": [
    {
     "name": "stdout",
     "output_type": "stream",
     "text": [
      "P(both | older): 0.5007089325501317\n",
      "P(both | either): 0.3311897106109325\n"
     ]
    }
   ],
   "source": [
    "for _ in range(10000):\n",
    "    younger = random_kid()\n",
    "    older = random_kid()\n",
    "    \n",
    "    if older == 'girl':\n",
    "        older_girl += 1\n",
    "    if older == 'girl' and younger == 'girl':\n",
    "        both_girls += 1\n",
    "    if older == 'girl' or younger == 'girl':\n",
    "        either_girl += 1\n",
    "\n",
    "print('P(both | older):', both_girls / older_girl)        \n",
    "print('P(both | either):', both_girls / either_girl)        "
   ]
  },
  {
   "cell_type": "markdown",
   "metadata": {},
   "source": [
    "# Continuous Distributions"
   ]
  },
  {
   "cell_type": "code",
   "execution_count": 96,
   "metadata": {
    "collapsed": true
   },
   "outputs": [],
   "source": [
    "def uniform_pdf(x):\n",
    "    return 1 if 0 <= x < 1 else 0"
   ]
  },
  {
   "cell_type": "code",
   "execution_count": 97,
   "metadata": {},
   "outputs": [
    {
     "name": "stdout",
     "output_type": "stream",
     "text": [
      "0 \t -0.4\n",
      "0 \t -0.3\n",
      "0 \t -0.2\n",
      "0 \t -0.1\n",
      "1 \t 0.0\n",
      "1 \t 0.1\n",
      "1 \t 0.2\n",
      "1 \t 0.3\n",
      "1 \t 0.4\n",
      "1 \t 0.5\n",
      "1 \t 0.6\n",
      "1 \t 0.7\n",
      "1 \t 0.8\n",
      "1 \t 0.9\n",
      "0 \t 1.0\n",
      "0 \t 1.1\n",
      "0 \t 1.2\n",
      "0 \t 1.3\n",
      "0 \t 1.4\n",
      "0 \t 1.5\n",
      "0 \t 1.6\n",
      "0 \t 1.7\n",
      "0 \t 1.8\n",
      "0 \t 1.9\n"
     ]
    }
   ],
   "source": [
    "# Let's test our uniform_pdf function\n",
    "\n",
    "for n in range(-4, 20):\n",
    "    n = round(n * 0.1, 1)\n",
    "    print(uniform_pdf(n), '\\t', n)"
   ]
  },
  {
   "cell_type": "code",
   "execution_count": 98,
   "metadata": {
    "collapsed": true
   },
   "outputs": [],
   "source": [
    "def uniform_cdf(x):\n",
    "    '''Returns the probability that a uniform random variable\n",
    "    is <= x'''\n",
    "    \n",
    "    if x < 0: return 0     # uniform random var is never less than 0\n",
    "    elif x < 1: return x   # P(x <- 0.4) = 0.4\n",
    "    else: return 1         # uniform random is always less than 1"
   ]
  },
  {
   "cell_type": "code",
   "execution_count": 99,
   "metadata": {},
   "outputs": [
    {
     "name": "stdout",
     "output_type": "stream",
     "text": [
      "0 \t -0.4\n",
      "0 \t -0.3\n",
      "0 \t -0.2\n",
      "0 \t -0.1\n",
      "0.0 \t 0.0\n",
      "0.1 \t 0.1\n",
      "0.2 \t 0.2\n",
      "0.3 \t 0.3\n",
      "0.4 \t 0.4\n",
      "0.5 \t 0.5\n",
      "0.6 \t 0.6\n",
      "0.7 \t 0.7\n",
      "0.8 \t 0.8\n",
      "0.9 \t 0.9\n",
      "1 \t 1.0\n",
      "1 \t 1.1\n",
      "1 \t 1.2\n",
      "1 \t 1.3\n",
      "1 \t 1.4\n",
      "1 \t 1.5\n",
      "1 \t 1.6\n",
      "1 \t 1.7\n",
      "1 \t 1.8\n",
      "1 \t 1.9\n"
     ]
    }
   ],
   "source": [
    "# Let's test our uniform_cdf function\n",
    "\n",
    "for n in range(-4, 20):\n",
    "    n = round(n * 0.1, 1)\n",
    "    print(uniform_cdf(n), '\\t', n)"
   ]
  },
  {
   "cell_type": "code",
   "execution_count": 101,
   "metadata": {
    "collapsed": true
   },
   "outputs": [],
   "source": [
    "def normal_pdf(x, mu=0, sigma=1):\n",
    "    sqrt_two_pi = math.sqrt(2 * math.pi)\n",
    "    return (math.exp(-(x-mu) ** 2 / 2 / sigma ** 2) / (sqrt_two_pi * sigma))"
   ]
  },
  {
   "cell_type": "code",
   "execution_count": 102,
   "metadata": {
    "collapsed": true
   },
   "outputs": [],
   "source": [
    "xs = [x/ 10.0 for x in range(-50, 50)]"
   ]
  },
  {
   "cell_type": "code",
   "execution_count": 112,
   "metadata": {},
   "outputs": [
    {
     "data": {
      "text/plain": [
       "<matplotlib.legend.Legend at 0x1109a05c0>"
      ]
     },
     "execution_count": 112,
     "metadata": {},
     "output_type": "execute_result"
    },
    {
     "data": {
      "image/png": "[encoded data removed]",
      "text/plain": [
       "<matplotlib.figure.Figure at 0x110959128>"
      ]
     },
     "metadata": {},
     "output_type": "display_data"
    }
   ],
   "source": [
    "plt.plot(xs, [normal_pdf(x, sigma=1) for x in xs], '-', label='mu=0, sigma=1')\n",
    "plt.plot(xs, [normal_pdf(x, sigma=2) for x in xs], '--', label='mu=0, sigma=2')\n",
    "plt.plot(xs, [normal_pdf(x, sigma=0.5) for x in xs], ':', label='mu=0, sigma=0.5')\n",
    "plt.plot(xs, [normal_pdf(x, mu=-1) for x in xs], '-.', label='mu=-1, sigma=1')\n",
    "plt.legend()"
   ]
  },
  {
   "cell_type": "markdown",
   "metadata": {},
   "source": [
    "If mu = 0 and sigma = 1, then the distribution is considered a standard normal diatribution."
   ]
  },
  {
   "cell_type": "markdown",
   "metadata": {},
   "source": [
    "If Z is a Standard, Normal Random variable, then in the equation: X = sigma * Z + mu, X is considered normal, but with a mean of mu and  a standard deviation of sigma.\n",
    "    "
   ]
  },
  {
   "cell_type": "code",
   "execution_count": 113,
   "metadata": {
    "collapsed": true
   },
   "outputs": [],
   "source": [
    "def normal_cdf(x, mu=0, sigma=1):\n",
    "    return (1 + math.erf((x - mu) / math.sqrt(2) / sigma)) / 2"
   ]
  },
  {
   "cell_type": "code",
   "execution_count": 120,
   "metadata": {},
   "outputs": [
    {
     "data": {
      "text/plain": [
       "<matplotlib.legend.Legend at 0x110d57940>"
      ]
     },
     "execution_count": 120,
     "metadata": {},
     "output_type": "execute_result"
    },
    {
     "data": {
      "image/png": "[encoded data removed]",
      "text/plain": [
       "<matplotlib.figure.Figure at 0x110f80e10>"
      ]
     },
     "metadata": {},
     "output_type": "display_data"
    }
   ],
   "source": [
    "plt.plot(xs, [normal_cdf(x, sigma=1) for x in xs], '-', label='mu=0, sigma=1')\n",
    "plt.plot(xs, [normal_cdf(x, sigma=2) for x in xs], '--', label='mu=0, sigma=2')\n",
    "plt.plot(xs, [normal_cdf(x, sigma=0.5) for x in xs], ':', label='mu=0, sigma=0.5')\n",
    "plt.plot(xs, [normal_cdf(x, mu=-1) for x in xs], '-.', label='mu=-1, sigma=1')\n",
    "plt.legend(loc=4)"
   ]
  },
  {
   "cell_type": "code",
   "execution_count": 122,
   "metadata": {
    "collapsed": true
   },
   "outputs": [],
   "source": [
    "def inverse_normal_cdf(p, mu=0, sigma=1, tolerance=0.00001):\n",
    "    '''find approximate inverse, by running a binary search'''\n",
    "    \n",
    "    # if the curve is not a Standard curve, compute a \n",
    "    # standard curve and rescale appropriately\n",
    "    \n",
    "    if mu != 0 or sigma != 1:\n",
    "        return mu + sigma * inverse_normal_cdf(p, tolerance=tolerance)\n",
    "    \n",
    "    low_z, low_p = -10.0, 0\n",
    "    hi_z, hi_p = 10.0, 1\n",
    "    while hi_z - low_z > tolerance:\n",
    "        mid_z = low_z + hi_z / 2\n",
    "        mid_p = normal_csf(mid_z)\n",
    "        if mid_p < p:\n",
    "            # midpoint is still too low, search higher numbers\n",
    "            low_z, low_p = mid_z, mid_p\n",
    "        elif mid_p > p:\n",
    "            # midpoint is still too high, search lower numbers\n",
    "            hi_z, hi_P = mid_z, mid_p\n",
    "        else:\n",
    "            break \n",
    "    return miz_z           \n",
    "    \n",
    "    "
   ]
  },
  {
   "cell_type": "code",
   "execution_count": null,
   "metadata": {
    "collapsed": true
   },
   "outputs": [],
   "source": []
  },
  {
   "cell_type": "code",
   "execution_count": null,
   "metadata": {
    "collapsed": true
   },
   "outputs": [],
   "source": []
  },
  {
   "cell_type": "code",
   "execution_count": null,
   "metadata": {
    "collapsed": true
   },
   "outputs": [],
   "source": []
  },
  {
   "cell_type": "markdown",
   "metadata": {},
   "source": [
    "# Notes and ideas:\n",
    "\n",
    "## Books\n",
    "* Think Bayes\n",
    "* Think Stats\n",
    "* Visualizing bayes book\n",
    "* Naked Statistics\n",
    "* Manga guide to stats\n",
    "* Head First Guide\n",
    "* Statistics in a Nutshell\n",
    "\n",
    "## Cheatsheet ideas\n",
    "* formula\n",
    "* example venn diagrams\n",
    "* example decision trees\n",
    "* differences between population stats and sample stats\n",
    "* \n",
    "* \n",
    "\n",
    "definitions\n",
    "* trials \n",
    "* sample space \n",
    "* events \n",
    "\n",
    "\n",
    "Formula???\n",
    "* P(E) = n(E) / n(S)\n",
    "\n",
    " more than one mutually exclusive event:\n",
    "* P(E) = n(E) / n(S) + n(E) / n(S)\n",
    "\n",
    "\n"
   ]
  },
  {
   "cell_type": "markdown",
   "metadata": {},
   "source": [
    "Latex font sizing:\n",
    "small, normalsize, large, Large, LARGE, huge, Huge\n",
    "\n"
   ]
  },
  {
   "cell_type": "code",
   "execution_count": null,
   "metadata": {},
   "outputs": [],
   "source": [
    "\n",
    "\n"
   ]
  },
  {
   "cell_type": "markdown",
   "metadata": {},
   "source": [
    "## Experience Points\n",
    "---"
   ]
  },
  {
   "cell_type": "markdown",
   "metadata": {},
   "source": [
    "### Complete the following exercises:"
   ]
  },
  {
   "cell_type": "code",
   "execution_count": null,
   "metadata": {},
   "outputs": [],
   "source": []
  },
  {
   "cell_type": "markdown",
   "metadata": {},
   "source": [
    "If you (and your partner, if you're working in pairs) are done, then you can put your green sticky up! This is how we know you're done.\n",
    "\n",
    "<img src='../images/green_sticky.300px.png' width='200' style='float:left'>"
   ]
  }
 ],
 "metadata": {
  "kernelspec": {
   "display_name": "Python 3",
   "language": "python",
   "name": "python3"
  },
  "language_info": {
   "codemirror_mode": {
    "name": "ipython",
    "version": 3
   },
   "file_extension": ".py",
   "mimetype": "text/x-python",
   "name": "python",
   "nbconvert_exporter": "python",
   "pygments_lexer": "ipython3",
   "version": "3.6.4"
  }
 },
 "nbformat": 4,
 "nbformat_minor": 2
}
