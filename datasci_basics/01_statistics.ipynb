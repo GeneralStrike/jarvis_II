{
 "cells": [
  {
   "cell_type": "markdown",
   "metadata": {},
   "source": [
    "# Welcome to the Dark Art of Coding:\n",
    "## Introduction to Data Science Fundamentals\n",
    "Basic Statistics\n",
    "\n",
    "From count, min, max to variance/standard deviation\n",
    "\n",
    "<img src='../images/logos.3.600.wide.png' height='250' width='300' style=\"float:right\">"
   ]
  },
  {
   "cell_type": "markdown",
   "metadata": {},
   "source": [
    "# Main objectives\n",
    "---"
   ]
  },
  {
   "cell_type": "markdown",
   "metadata": {},
   "source": [
    "You will be able to:\n",
    "\n",
    "* Understand how to calculate counts, minimums and maximums\n",
    "* Understand the measures of central tendencies and the differences between: \n",
    "   * mean\n",
    "   * median\n",
    "   * mode\n",
    "* Understand measures of dispersion and the differences between:\n",
    "   * simple spread\n",
    "   * quantiles\n",
    "   * interquartile ranges\n",
    "   * variance\n",
    "   * standard deviation"
   ]
  },
  {
   "cell_type": "markdown",
   "metadata": {},
   "source": [
    "# A broad overview\n",
    "---\n",
    "\n",
    "\n"
   ]
  },
  {
   "cell_type": "markdown",
   "metadata": {},
   "source": [
    "To help us understand some of the concepts we are gonna explore, we will explore most of these measures in several ways:\n",
    "\n",
    "* through small, simple datasets\n",
    "* through a larger more sophisticated dataset\n",
    "* through hand-developed code\n",
    "* through related functions found in Python's Standard Library and in major data science libraries such as numpy, scipy, and pandas "
   ]
  },
  {
   "cell_type": "markdown",
   "metadata": {},
   "source": [
    "To get us started, let's take a look at our large dataset. To do so, we will plot the data using the matplotlib library. "
   ]
  },
  {
   "cell_type": "markdown",
   "metadata": {},
   "source": [
    "## Defects in patches of parts\n",
    "\n",
    "Let's simulate the number of defects within a series of part batches.\n",
    "\n",
    "Given any batch of parts, some of the parts will be defective.\n",
    "\n",
    "Each number below represents the number of defects in a single batch."
   ]
  },
  {
   "cell_type": "code",
   "execution_count": 2,
   "metadata": {
    "collapsed": true
   },
   "outputs": [],
   "source": [
    "num_defects =  [99, 52, 42, 44, 27, 22, 22, 24, 22, 21,\n",
    "                21, 18, 18, 15, 19, 19, 18, 17, 18, 16,\n",
    "                16, 17, 18, 15, 15, 13, 11, 14, 14, 13,\n",
    "                14, 14, 14, 13, 14, 14, 14, 14, 12, 14,\n",
    "                13, 12, 11, 12, 13, 13, 12, 13, 11, 13,\n",
    "                11, 12, 12, 10, 10, 11, 12, 13, 10, 12,\n",
    "                11, 10, 12, 12, 11, 11, 9, 9, 9, 11,\n",
    "                12, 8, 8, 10, 8, 10, 11, 10, 9, 10,\n",
    "                10, 8, 8, 11, 10, 9, 8, 8, 10, 10,\n",
    "                7, 7, 7, 8, 8, 7, 7, 8, 7, 7,\n",
    "                9, 7, 7, 10, 7, 8, 9, 9, 6, 6,\n",
    "                8, 8, 9, 7, 7, 9, 6, 8, 9, 8,\n",
    "                9, 9, 6, 8, 9, 7, 8, 6, 8, 6,\n",
    "                6, 6, 6, 6, 6, 8, 7, 8, 7, 5,\n",
    "                6, 8, 8, 8, 8, 5, 4, 6, 6, 4,\n",
    "                6, 6, 4, 5, 7, 5, 7, 6, 5, 4,\n",
    "                6, 4, 7, 5, 6, 4, 4, 6, 6, 3,\n",
    "                5, 6, 6, 4, 6, 3, 3, 3, 5, 5,\n",
    "                5, 3, 2, 5, 2, 3, 2, 4, 3, 2,\n",
    "                5, 2, 2, 2, 3, 4, 4, 4, 5, 5,\n",
    "                3, 5, 4, 2]         "
   ]
  },
  {
   "cell_type": "code",
   "execution_count": 3,
   "metadata": {
    "collapsed": true
   },
   "outputs": [],
   "source": [
    "# The following enables inline plots\n",
    "# and import matplotlib.pyplot uses plt as an alias\n",
    "\n",
    "%matplotlib inline\n",
    "import matplotlib.pyplot as plt"
   ]
  },
  {
   "cell_type": "code",
   "execution_count": 4,
   "metadata": {
    "collapsed": true
   },
   "outputs": [],
   "source": [
    "# importing the Counter class helps us simplify the counting process\n",
    "\n",
    "from collections import Counter"
   ]
  },
  {
   "cell_type": "markdown",
   "metadata": {},
   "source": [
    "# Simple Histogram\n",
    "---"
   ]
  },
  {
   "cell_type": "markdown",
   "metadata": {},
   "source": [
    "We will use a histogram to help visualize our defects data and then we will use various statistical evaluations to examine that data in greater detail."
   ]
  },
  {
   "cell_type": "code",
   "execution_count": 5,
   "metadata": {},
   "outputs": [
    {
     "name": "stdout",
     "output_type": "stream",
     "text": [
      "8 >   24\n",
      "6 >   24\n",
      "7 >   18\n",
      "5 >   15\n",
      "9 >   14\n"
     ]
    }
   ],
   "source": [
    "# Let's count how many times each defect count appears\n",
    "#     and look at the five most frequent counts\n",
    "\n",
    "defect_counts = Counter(num_defects)\n",
    "\n",
    "for defect_count, freq in defect_counts.most_common(5):\n",
    "    print(defect_count, '>  ', freq)"
   ]
  },
  {
   "cell_type": "markdown",
   "metadata": {},
   "source": [
    "## Counters behave a lot like dictionaries, but...\n",
    "\n",
    "they along with the `.most_common()` function, they have another interesting feature\n",
    "\n",
    "if you look up a key that does not exist, you get back a `0` value (versus a `KeyError` that you would get back from a dictionary).\n",
    "\n",
    "For example...\n",
    "\n",
    "```\n",
    ">>> defect_count[77]     # does not exist\n",
    "0\n",
    "\n",
    ">>> defect_count[8]      # does exist\n",
    "24\n",
    "```"
   ]
  },
  {
   "cell_type": "code",
   "execution_count": 6,
   "metadata": {
    "collapsed": true
   },
   "outputs": [],
   "source": [
    "# Let's create a series of x values \n",
    "#     and parse the defect counts for each of the values.\n",
    "# In this case, if we try to extract the value associated with a key\n",
    "#     that does not exist, we simply get back a 0.\n",
    "\n",
    "x_values = range(101)\n",
    "y_values = [defect_counts[x] for x in x_values]"
   ]
  },
  {
   "cell_type": "code",
   "execution_count": 7,
   "metadata": {},
   "outputs": [
    {
     "data": {
      "image/png": "[encoded data removed]",
      "text/plain": [
       "<matplotlib.figure.Figure at 0x1092f3c88>"
      ]
     },
     "metadata": {},
     "output_type": "display_data"
    }
   ],
   "source": [
    "# Let's craft a bar chart using our x and y values...\n",
    "#     For now, I don't want to focus too much on the mechanics of creating the \n",
    "#     graph... just on what the graph can tell us at a glance\n",
    "\n",
    "#     We will use this picture to help us get a sense for what the data looks like\n",
    "\n",
    "plt.figure(figsize=(12, 10))\n",
    "plt.bar(x_values, y_values)\n",
    "plt.axis([0, 105, 0, 25])\n",
    "plt.title('Frequency of defects detected')\n",
    "plt.xlabel('# of defects')\n",
    "plt.ylabel('# of batchs')\n",
    "plt.show()"
   ]
  },
  {
   "cell_type": "markdown",
   "metadata": {},
   "source": [
    "# Simple statistics: \n",
    "## count, maximum, minimum"
   ]
  },
  {
   "cell_type": "code",
   "execution_count": 8,
   "metadata": {},
   "outputs": [
    {
     "name": "stdout",
     "output_type": "stream",
     "text": [
      "Number of data points: 204\n"
     ]
    }
   ],
   "source": [
    "# len() returns the total number of elements in a Python sequence\n",
    "\n",
    "num_points = len(num_defects)\n",
    "print(\"Number of data points:\", num_points)"
   ]
  },
  {
   "cell_type": "code",
   "execution_count": 9,
   "metadata": {
    "collapsed": true
   },
   "outputs": [],
   "source": [
    "# max() and min() return the maximum (or minimum) value from a \n",
    "#     Python sequence\n",
    "\n",
    "largest_value = max(num_defects)\n",
    "smallest_value = min(num_defects)"
   ]
  },
  {
   "cell_type": "code",
   "execution_count": 10,
   "metadata": {},
   "outputs": [
    {
     "name": "stdout",
     "output_type": "stream",
     "text": [
      "Largest value: 99\n",
      "Smallest value: 2\n"
     ]
    }
   ],
   "source": [
    "print(\"Largest value:\", largest_value)\n",
    "print(\"Smallest value:\", smallest_value)"
   ]
  },
  {
   "cell_type": "markdown",
   "metadata": {},
   "source": [
    "# Central Tendencies"
   ]
  },
  {
   "cell_type": "markdown",
   "metadata": {},
   "source": [
    "* mean\n",
    "* median\n",
    "* mode"
   ]
  },
  {
   "cell_type": "code",
   "execution_count": 11,
   "metadata": {
    "collapsed": true
   },
   "outputs": [],
   "source": [
    "# We can create a straight forward function to calculate the mean \n",
    "#     (also known as the average) of a sequence of values.\n",
    "\n",
    "def mean(values):\n",
    "    '''Return the mean (or average) of a sequence of values.\n",
    "    \n",
    "    >>> mean([1, 2, 3, 4])\n",
    "    2.5\n",
    "    \n",
    "    >>> mean([1, 2, 3, 4, 5])\n",
    "    3.0\n",
    "    \n",
    "    '''\n",
    "    return sum(values) / len(values)"
   ]
  },
  {
   "cell_type": "code",
   "execution_count": 12,
   "metadata": {},
   "outputs": [
    {
     "data": {
      "text/plain": [
       "2.5"
      ]
     },
     "execution_count": 12,
     "metadata": {},
     "output_type": "execute_result"
    }
   ],
   "source": [
    "# temporarily, let's use a small number of values\n",
    "\n",
    "mean([1, 2, 3, 4])         # even number of values"
   ]
  },
  {
   "cell_type": "code",
   "execution_count": 13,
   "metadata": {},
   "outputs": [
    {
     "data": {
      "text/plain": [
       "3.0"
      ]
     },
     "execution_count": 13,
     "metadata": {},
     "output_type": "execute_result"
    }
   ],
   "source": [
    "mean([1, 2, 3, 4, 5])      # odd number of values"
   ]
  },
  {
   "cell_type": "code",
   "execution_count": 14,
   "metadata": {},
   "outputs": [
    {
     "data": {
      "text/plain": [
       "9.965686274509803"
      ]
     },
     "execution_count": 14,
     "metadata": {},
     "output_type": "execute_result"
    }
   ],
   "source": [
    "mean(num_defects)"
   ]
  },
  {
   "cell_type": "code",
   "execution_count": 15,
   "metadata": {
    "collapsed": true
   },
   "outputs": [],
   "source": [
    "# We can create a straight forward function to calculate the median \n",
    "#     The median is the center-most value in a sorted sequence of values\n",
    "#     If there are an even number of items, the median is the average of\n",
    "#     the two center-most values.\n",
    "\n",
    "def median(values):\n",
    "    \"\"\"Return the median value from a sequence of values\n",
    "    \n",
    "    >>> median([1, 3, 5])          # odd number of values\n",
    "    3\n",
    "    \n",
    "    >>> median([1, 3, 5, 7])       # even number of values\n",
    "    4.0\n",
    "    \"\"\"\n",
    "    \n",
    "    num = len(values)\n",
    "    sorted_values = sorted(values)\n",
    "    centerpoint = num // 2            # truncate any floats...\n",
    "    \n",
    "    if num % 2 == 1: \n",
    "        # return the center value if n is odd\n",
    "        return sorted_values[centerpoint]\n",
    "    \n",
    "    else:\n",
    "        # return the average of the two center-most values\n",
    "        # if num is even\n",
    "        c1 = centerpoint - 1\n",
    "        c2 = centerpoint\n",
    "        return (sorted_values[c1] + sorted_values[c2]) / 2\n",
    "    "
   ]
  },
  {
   "cell_type": "code",
   "execution_count": 16,
   "metadata": {},
   "outputs": [
    {
     "data": {
      "text/plain": [
       "2"
      ]
     },
     "execution_count": 16,
     "metadata": {},
     "output_type": "execute_result"
    }
   ],
   "source": [
    "# median of an odd number of values\n",
    "\n",
    "odd = [1, 2, 3]\n",
    "\n",
    "median(odd)"
   ]
  },
  {
   "cell_type": "code",
   "execution_count": 17,
   "metadata": {},
   "outputs": [
    {
     "data": {
      "text/plain": [
       "5.5"
      ]
     },
     "execution_count": 17,
     "metadata": {},
     "output_type": "execute_result"
    }
   ],
   "source": [
    "# median of an even number of values\n",
    "# REMINDER: median sorts the values in the sequence before \n",
    "#     returning any values\n",
    "\n",
    "even = [42, 1, 5, 6]\n",
    "\n",
    "median(even)    "
   ]
  },
  {
   "cell_type": "code",
   "execution_count": 18,
   "metadata": {},
   "outputs": [
    {
     "data": {
      "text/plain": [
       "8.0"
      ]
     },
     "execution_count": 18,
     "metadata": {},
     "output_type": "execute_result"
    }
   ],
   "source": [
    "# median num of tweets recieved\n",
    "\n",
    "median(num_defects)"
   ]
  },
  {
   "cell_type": "code",
   "execution_count": 19,
   "metadata": {
    "collapsed": true
   },
   "outputs": [],
   "source": [
    "# We can create a straight forward function to calculate the mode \n",
    "#     The mode is the most frequently found value(s) in a sorted \n",
    "#     sequence of values\n",
    "\n",
    "from collections import Counter\n",
    "\n",
    "def mode(values):\n",
    "    \"\"\"Returns a list of the most common (frequent) value(s) \n",
    "    \n",
    "    If there is more than one element with the same maximum frequency, then\n",
    "    return all such elements as a list\n",
    "    \"\"\"\n",
    "    \n",
    "    mode_values = {}\n",
    "    counts = Counter(values)\n",
    "    max_count = max(counts.values())\n",
    "    \n",
    "    return [value for value, count in counts.items() if count == max_count]        "
   ]
  },
  {
   "cell_type": "code",
   "execution_count": 20,
   "metadata": {},
   "outputs": [
    {
     "data": {
      "text/plain": [
       "[4]"
      ]
     },
     "execution_count": 20,
     "metadata": {},
     "output_type": "execute_result"
    }
   ],
   "source": [
    "mode([1, 2, 3, 4, 4, 4])     # single number is most frequent"
   ]
  },
  {
   "cell_type": "code",
   "execution_count": 21,
   "metadata": {},
   "outputs": [
    {
     "data": {
      "text/plain": [
       "[3, 4]"
      ]
     },
     "execution_count": 21,
     "metadata": {},
     "output_type": "execute_result"
    }
   ],
   "source": [
    "mode([1, 2, 3, 3, 4, 4])     # two numbers are most frequent"
   ]
  },
  {
   "cell_type": "code",
   "execution_count": 22,
   "metadata": {},
   "outputs": [
    {
     "data": {
      "text/plain": [
       "[8, 6]"
      ]
     },
     "execution_count": 22,
     "metadata": {},
     "output_type": "execute_result"
    }
   ],
   "source": [
    "mode(num_defects)"
   ]
  },
  {
   "cell_type": "markdown",
   "metadata": {},
   "source": [
    "## frequency table\n",
    "\n",
    "Along with `mean`, `mode`, `median` it is sometimes useful to see more broadly how frequently the various values appear. A frequency table is useful for this:"
   ]
  },
  {
   "cell_type": "code",
   "execution_count": 23,
   "metadata": {
    "collapsed": true
   },
   "outputs": [],
   "source": [
    "from collections import Counter\n",
    "\n",
    "def freq_table(values):\n",
    "    \"\"\"Returns a series of values and counts in a frequency table \n",
    "    \n",
    "    \"\"\"\n",
    "    \n",
    "    frequencies = Counter(values)\n",
    "    print('Value\\tFrequency')\n",
    "    \n",
    "    for value, count in frequencies.most_common():\n",
    "        print('{}\\t{}'.format(value, count))"
   ]
  },
  {
   "cell_type": "code",
   "execution_count": 24,
   "metadata": {},
   "outputs": [
    {
     "name": "stdout",
     "output_type": "stream",
     "text": [
      "Value\tFrequency\n",
      "9\t3\n",
      "6\t2\n",
      "7\t1\n",
      "8\t1\n"
     ]
    }
   ],
   "source": [
    "freq_table([7, 8, 9, 9, 9, 6, 6])"
   ]
  },
  {
   "cell_type": "code",
   "execution_count": 25,
   "metadata": {},
   "outputs": [
    {
     "name": "stdout",
     "output_type": "stream",
     "text": [
      "Value\tFrequency\n",
      "8\t24\n",
      "6\t24\n",
      "7\t18\n",
      "5\t15\n",
      "9\t14\n",
      "10\t13\n",
      "4\t13\n",
      "11\t11\n",
      "12\t11\n",
      "14\t10\n",
      "13\t9\n",
      "3\t9\n",
      "2\t8\n",
      "18\t5\n",
      "22\t3\n",
      "15\t3\n",
      "21\t2\n",
      "19\t2\n",
      "17\t2\n",
      "16\t2\n",
      "99\t1\n",
      "52\t1\n",
      "42\t1\n",
      "44\t1\n",
      "27\t1\n",
      "24\t1\n"
     ]
    }
   ],
   "source": [
    "freq_table(defect_counts)"
   ]
  },
  {
   "cell_type": "markdown",
   "metadata": {},
   "source": [
    "# Measures of Dispersion\n",
    "## maximum, minimum\n",
    "\n",
    "The simplest measures of dispersion are based on the minimum and maximum values. Python has built-in methods to calculate maximum and minimum values:\n",
    "\n",
    "* `max()`\n",
    "* `min()`"
   ]
  },
  {
   "cell_type": "code",
   "execution_count": 26,
   "metadata": {},
   "outputs": [
    {
     "name": "stdout",
     "output_type": "stream",
     "text": [
      "Largest value: 99\n",
      "Smallest value: 2\n"
     ]
    }
   ],
   "source": [
    "print(\"Largest value:\", max(num_defects))\n",
    "print(\"Smallest value:\", min(num_defects))"
   ]
  },
  {
   "cell_type": "markdown",
   "metadata": {},
   "source": [
    "## Simple spread\n",
    "\n",
    "Using the maximum and minimum values, you can calculate the range of spread."
   ]
  },
  {
   "cell_type": "code",
   "execution_count": 27,
   "metadata": {
    "collapsed": true
   },
   "outputs": [],
   "source": [
    "def data_range(x):\n",
    "    '''Returns the range (i.e. the difference) between the \n",
    "    highest and lowest values\n",
    "    '''\n",
    "    \n",
    "    return max(x) - min(x)"
   ]
  },
  {
   "cell_type": "code",
   "execution_count": 28,
   "metadata": {},
   "outputs": [
    {
     "data": {
      "text/plain": [
       "4"
      ]
     },
     "execution_count": 28,
     "metadata": {},
     "output_type": "execute_result"
    }
   ],
   "source": [
    "data_range([5, 3, 4, 2, 1])"
   ]
  },
  {
   "cell_type": "code",
   "execution_count": 29,
   "metadata": {},
   "outputs": [
    {
     "data": {
      "text/plain": [
       "97"
      ]
     },
     "execution_count": 29,
     "metadata": {},
     "output_type": "execute_result"
    }
   ],
   "source": [
    "data_range(num_defects)"
   ]
  },
  {
   "cell_type": "markdown",
   "metadata": {},
   "source": [
    "## Downsides of using simple spread:\n",
    "\n",
    "A simple spread is very susceptible to outliers which may not take into account where the **majority** of the datapoints lie...\n",
    "\n",
    "```\n",
    "* [7, 6, 7, 5, 7, 8]    # range of 3 \n",
    "* [7, 6, 7, 5, 7, 99]   # range of 94\n",
    "```"
   ]
  },
  {
   "cell_type": "code",
   "execution_count": null,
   "metadata": {
    "collapsed": true
   },
   "outputs": [],
   "source": []
  },
  {
   "cell_type": "markdown",
   "metadata": {},
   "source": [
    "## Quantiles and interquartile ranges\n",
    "\n",
    "A method to overcome the weakness of simple spread is to use a narrower range. One way to create a narrower range is to calculate quantiles and interquartile ranges.\n",
    "\n",
    "|Term|Definition|\n",
    "|:--- |:--- |\n",
    "|quantile|a cutpoint OR dividing point in a range of values creating contiguous intervals with equal probabilities|\n",
    "|quartile|a value that cuts your data into quarters|\n",
    "|interquartile range|the range between the lower quartile and upper quartile|"
   ]
  },
  {
   "cell_type": "code",
   "execution_count": 31,
   "metadata": {
    "collapsed": true
   },
   "outputs": [],
   "source": [
    "def quantile(values, percentile):\n",
    "    \"\"\"Returns the pth-percentile value in a sequence of values\n",
    "    \"\"\"\n",
    "    \n",
    "    p_index = int(percentile * len(values))\n",
    "    return sorted(values)[p_index]"
   ]
  },
  {
   "cell_type": "code",
   "execution_count": 32,
   "metadata": {},
   "outputs": [
    {
     "data": {
      "text/plain": [
       "85"
      ]
     },
     "execution_count": 32,
     "metadata": {},
     "output_type": "execute_result"
    }
   ],
   "source": [
    "# Given a sequence of values, we can calculate a given quantile.\n",
    "# In this case, we calculate the quantile at the halfway mark (0.5)\n",
    "#     or roughly the median.\n",
    "\n",
    "grades1 = [85, 87, 89, 55, 65, 67, 75, 80, 91, 96]        # ten values\n",
    "\n",
    "quantile(grades1, .5)"
   ]
  },
  {
   "cell_type": "code",
   "execution_count": 33,
   "metadata": {},
   "outputs": [
    {
     "data": {
      "text/plain": [
       "85"
      ]
     },
     "execution_count": 33,
     "metadata": {},
     "output_type": "execute_result"
    }
   ],
   "source": [
    "grades2 = [85, 87, 89, 55, 65, 67, 75, 80, 91, 96, 99]    # eleven values\n",
    "\n",
    "quantile(grades2, .5)\n",
    "\n",
    "# NOTE: This is less detailed than median\n",
    "#     and does NOT account for the length of the dataset in\n",
    "#     terms of odd/even num of values"
   ]
  },
  {
   "cell_type": "code",
   "execution_count": 34,
   "metadata": {},
   "outputs": [
    {
     "name": "stdout",
     "output_type": "stream",
     "text": [
      "67\n",
      "91\n"
     ]
    }
   ],
   "source": [
    "# While not as sophisticated as our median calc,\n",
    "#     we can calc other quantiles, such as the 25th percentile\n",
    "#     or 75th percentile\n",
    "#     i.e. the quartiles\n",
    "\n",
    "print(quantile(grades2, .25))\n",
    "print(quantile(grades2, .75))"
   ]
  },
  {
   "cell_type": "code",
   "execution_count": 35,
   "metadata": {},
   "outputs": [
    {
     "name": "stdout",
     "output_type": "stream",
     "text": [
      "Percent: 0.1\t4\n",
      "Percent: 0.25\t6\n",
      "Percent: 0.75\t12\n",
      "Percent: 0.9\t16\n",
      "Percent: 0.95\t21\n",
      "Percent: 0.999\t99\n"
     ]
    }
   ],
   "source": [
    "# To see the percentile breakdown of defects, we can calculate\n",
    "#     which counts fall into which percentiles\n",
    "#\n",
    "# It is important to note that the percentile calc simply finds the\n",
    "#     NEAREST or CLOSEST index in the list to the given percentile\n",
    "#     and returns the value stored at that index.\n",
    "\n",
    "for percent in [0.10, 0.25, 0.75, 0.90, 0.95, 0.999]:\n",
    "    q = quantile(num_defects, percent)\n",
    "    \n",
    "    print('Percent: {}\\t{}'.format(percent, q))"
   ]
  },
  {
   "cell_type": "code",
   "execution_count": null,
   "metadata": {
    "collapsed": true
   },
   "outputs": [],
   "source": []
  },
  {
   "cell_type": "code",
   "execution_count": 36,
   "metadata": {
    "collapsed": true
   },
   "outputs": [],
   "source": [
    "# To show the range between two quantile values, we \n",
    "#     can use an interquantile range.\n",
    "# It is very common to use quantiles of 25% and 75%, but \n",
    "#     other quantiles may be used as well:\n",
    "#     10% <-> 90%\n",
    "#     etc\n",
    "\n",
    "\n",
    "def interquartile_range(values):\n",
    "    '''Return the difference between the 75% and 25% percentiles.\n",
    "    '''\n",
    "    return quantile(values, 0.75) - quantile(values, 0.25)"
   ]
  },
  {
   "cell_type": "code",
   "execution_count": 37,
   "metadata": {},
   "outputs": [
    {
     "name": "stdout",
     "output_type": "stream",
     "text": [
      "3 <-> 8\n",
      "5\n"
     ]
    }
   ],
   "source": [
    "values = [1, 2, 3, 4, 5, 6, 7, 8, 9, 10]\n",
    "\n",
    "# find the quantile values at 25% and 75%\n",
    "print(quantile(values, 0.25), '<->', quantile(values, 0.75))\n",
    "\n",
    "# calculate the range\n",
    "print(interquartile_range([1, 2, 3, 4, 5, 6, 7, 8, 9, 10]))"
   ]
  },
  {
   "cell_type": "code",
   "execution_count": 38,
   "metadata": {},
   "outputs": [
    {
     "data": {
      "text/plain": [
       "6"
      ]
     },
     "execution_count": 38,
     "metadata": {},
     "output_type": "execute_result"
    }
   ],
   "source": [
    "# We can calculate the interquartile range for our defects data\n",
    "\n",
    "interquartile_range(num_defects)"
   ]
  },
  {
   "cell_type": "markdown",
   "metadata": {},
   "source": [
    "## Downsides of using interquartile range\n",
    "\n",
    "The interquartile range helps eliminate some of the risks associated with outliers, but still has some weaknesses:\n",
    "\n",
    "* it can only tell you the difference between a 'high' value and a 'low' value\n",
    "* it does NOT tell you how often the high values OR low values occur versus how often values occur near the center\n",
    "\n",
    "We need a method to more accurately measure variability."
   ]
  },
  {
   "cell_type": "markdown",
   "metadata": {},
   "source": [
    "## Variance and standard deviation"
   ]
  },
  {
   "cell_type": "markdown",
   "metadata": {},
   "source": [
    "There are several techniques to help evaluate the spread of the data and how much data varies. These techniques build upon each other."
   ]
  },
  {
   "cell_type": "markdown",
   "metadata": {},
   "source": [
    "**Average distance from the mean**\n",
    "\n",
    "`Average distance from the mean`: One method that **seems**, at first look, to be a reasonable solution is to simple calculate the average distance of each value from the mean.\n",
    "\n",
    "The weaknesss with calculating the average distance from the mean is that positive values and negative values cancel each other out and you lose the measure of spread:\n",
    "\n",
    "```\n",
    "nums = [1, 2, 9]\n",
    "mean: 4\n",
    "\n",
    "* 1 - 4 = -3\n",
    "* 2 - 4 = -2\n",
    "* 9 - 4 =  5\n",
    "------------\n",
    "total   =  0\n",
    "```"
   ]
  },
  {
   "cell_type": "code",
   "execution_count": 39,
   "metadata": {
    "collapsed": true
   },
   "outputs": [],
   "source": [
    "def diff_mean(values):\n",
    "    \"\"\"Calculate the difference from the mean for every value in a \n",
    "    sequence of values\n",
    "    \n",
    "    This has the effect of translating the values so that the new mean\n",
    "    is zero (0).\n",
    "    \"\"\"\n",
    "    \n",
    "    x_bar = mean(values)\n",
    "    return [value - x_bar for value in values]    "
   ]
  },
  {
   "cell_type": "code",
   "execution_count": 40,
   "metadata": {},
   "outputs": [
    {
     "data": {
      "text/plain": [
       "0.0"
      ]
     },
     "execution_count": 40,
     "metadata": {},
     "output_type": "execute_result"
    }
   ],
   "source": [
    "diffs = diff_mean([1, 2, 9])\n",
    "\n",
    "mean(diffs)"
   ]
  },
  {
   "cell_type": "code",
   "execution_count": 41,
   "metadata": {},
   "outputs": [
    {
     "data": {
      "text/plain": [
       "1.8634331550571255e-14"
      ]
     },
     "execution_count": 41,
     "metadata": {},
     "output_type": "execute_result"
    }
   ],
   "source": [
    "mean(diff_mean(num_defects))\n",
    "\n",
    "# 1.8634331550571255e-14\n",
    "# this is effectively zero... "
   ]
  },
  {
   "cell_type": "markdown",
   "metadata": {},
   "source": [
    "**Variance**\n",
    "\n",
    "`Variance`: To calculate variation, a popular method is to calculate the variance, which is defined as:\n",
    "\n",
    "`The average of the 'difference OR distance of values from the mean' squared.`\n",
    "\n",
    "The benefit of squaring each of the difference of values from the mean before using them to calculate the average is that squared numbers are always positive.\n",
    "\n",
    "```\n",
    "nums = [1, 2, 9]\n",
    "mean: 4\n",
    "\n",
    "* (1 - 4)^2 =  9\n",
    "* (2 - 4)^2 =  4\n",
    "* (9 - 4)^2 = 25\n",
    "----------------\n",
    "total       = 38\n",
    "\n",
    "variance    = 38/3 = 12.6666\n",
    "```\n",
    "\n"
   ]
  },
  {
   "cell_type": "code",
   "execution_count": 42,
   "metadata": {
    "collapsed": true
   },
   "outputs": [],
   "source": [
    "def variance(values):\n",
    "    \"\"\"Return the variance of a sequence of values.\n",
    "    \n",
    "    NOTE: this functions presumes that values has a minimum of TWO elements.\n",
    "    \"\"\"\n",
    "    \n",
    "    num = len(values)\n",
    "    deviations = diff_mean(values)\n",
    "    squared_diffs = [d**2 for d in deviations]\n",
    "    sum_squared_diffs = sum(squared_diffs)\n",
    "    \n",
    "    return sum_squared_diffs / num"
   ]
  },
  {
   "cell_type": "code",
   "execution_count": 43,
   "metadata": {},
   "outputs": [
    {
     "data": {
      "text/plain": [
       "12.666666666666666"
      ]
     },
     "execution_count": 43,
     "metadata": {},
     "output_type": "execute_result"
    }
   ],
   "source": [
    "variance([1, 2, 9])"
   ]
  },
  {
   "cell_type": "code",
   "execution_count": 44,
   "metadata": {},
   "outputs": [
    {
     "data": {
      "text/plain": [
       "80.87627354863517"
      ]
     },
     "execution_count": 44,
     "metadata": {},
     "output_type": "execute_result"
    }
   ],
   "source": [
    "variance(num_defects)"
   ]
  },
  {
   "cell_type": "markdown",
   "metadata": {},
   "source": [
    "**Standard Deviation**\n",
    "\n",
    "One of the weaknesses of using the variance is that no one really knows what it means when we say **`distance squared`** or **`difference squared`**.\n",
    "\n",
    "`Standard Deviation`: To overcome this weakness we often calculate the standard deviation, which is defined as:\n",
    "\n",
    "`The square root of the variance`\n",
    "\n",
    "The benefit of the square root is that we are simply using a distance OR a difference.\n",
    "\n",
    "```\n",
    "nums = [1, 2, 9]\n",
    "mean: 4\n",
    "\n",
    "* (1 - 4)^2 =  9\n",
    "* (2 - 4)^2 =  4\n",
    "* (9 - 4)^2 = 25\n",
    "----------------\n",
    "total       = 38\n",
    "\n",
    "std dev     = sqrt(38/3) = 3.5590\n",
    "```"
   ]
  },
  {
   "cell_type": "code",
   "execution_count": 45,
   "metadata": {
    "collapsed": true
   },
   "outputs": [],
   "source": [
    "def standard_deviation(values):\n",
    "    \"\"\"Return the standard deviation of a sequence of values\n",
    "    \"\"\"\n",
    "    \n",
    "    from math import sqrt\n",
    "    return sqrt(variance(values))"
   ]
  },
  {
   "cell_type": "code",
   "execution_count": 46,
   "metadata": {},
   "outputs": [
    {
     "data": {
      "text/plain": [
       "3.559026084010437"
      ]
     },
     "execution_count": 46,
     "metadata": {},
     "output_type": "execute_result"
    }
   ],
   "source": [
    "standard_deviation([1, 2, 9])"
   ]
  },
  {
   "cell_type": "code",
   "execution_count": null,
   "metadata": {
    "collapsed": true
   },
   "outputs": [],
   "source": [
    "standard_deviation(num_defects)"
   ]
  },
  {
   "cell_type": "code",
   "execution_count": null,
   "metadata": {
    "collapsed": true
   },
   "outputs": [],
   "source": []
  },
  {
   "cell_type": "markdown",
   "metadata": {},
   "source": [
    "# Pro tip... using functions from libraries...\n",
    "\n",
    "All of the items we have covered here are fairly well represented in statistics literature and in various Python and Data Science libraries, so let's take a look at where you can find these tools"
   ]
  },
  {
   "cell_type": "markdown",
   "metadata": {},
   "source": [
    "There are several places you might want to start, but these are certainly not the only options:\n",
    "\n",
    "|Library|Purpose|\n",
    "|:---|:---|\n",
    "|**statistics**|Mathematical statistics functions including averages, measures of central location, measures of spread|\n",
    "|||\n",
    "|**numpy**|a powerful N-dimensional array object|\n",
    "||sophisticated (broadcasting) functions|\n",
    "||tools for integrating C/C++ and Fortran code|\n",
    "||useful linear algebra, Fourier transform, and random number capabilities|\n",
    "|||\n",
    "|**scipy**|SciPy is a collection of mathematical algorithms and convenience functions built on numpy|\n",
    "||adds power to interactive Python sessions|\n",
    "||provides the user with high-level commands and classes for manipulating and visualizing data|\n",
    "| ||\n",
    "|**pandas**|pandas is a Python package providing fast, flexible, and expressive data structures|\n",
    "||designed to make working with “relational” or “labeled” data easy and intuitive|\n",
    "    "
   ]
  },
  {
   "cell_type": "code",
   "execution_count": 47,
   "metadata": {
    "collapsed": true
   },
   "outputs": [],
   "source": [
    "import numpy as np\n",
    "import scipy\n",
    "import statistics as stats\n",
    "import pandas as pd"
   ]
  },
  {
   "cell_type": "code",
   "execution_count": 48,
   "metadata": {
    "collapsed": true
   },
   "outputs": [],
   "source": [
    "# Create a numpy array from our list of defects\n",
    "\n",
    "defects = np.array(num_defects)"
   ]
  },
  {
   "cell_type": "code",
   "execution_count": null,
   "metadata": {
    "collapsed": true
   },
   "outputs": [],
   "source": [
    "# Let's use tab complete to examine our options\n",
    "\n",
    "defects."
   ]
  },
  {
   "cell_type": "code",
   "execution_count": 49,
   "metadata": {},
   "outputs": [
    {
     "data": {
      "text/plain": [
       "9.9656862745098032"
      ]
     },
     "execution_count": 49,
     "metadata": {},
     "output_type": "execute_result"
    }
   ],
   "source": [
    "defects.mean()"
   ]
  },
  {
   "cell_type": "code",
   "execution_count": 50,
   "metadata": {},
   "outputs": [
    {
     "data": {
      "text/plain": [
       "2"
      ]
     },
     "execution_count": 50,
     "metadata": {},
     "output_type": "execute_result"
    }
   ],
   "source": [
    "defects.min()"
   ]
  },
  {
   "cell_type": "code",
   "execution_count": 51,
   "metadata": {},
   "outputs": [
    {
     "data": {
      "text/plain": [
       "99"
      ]
     },
     "execution_count": 51,
     "metadata": {},
     "output_type": "execute_result"
    }
   ],
   "source": [
    "defects.max()"
   ]
  },
  {
   "cell_type": "code",
   "execution_count": 52,
   "metadata": {},
   "outputs": [
    {
     "name": "stdout",
     "output_type": "stream",
     "text": [
      "80.8762735486\n",
      "8.99312368138\n"
     ]
    }
   ],
   "source": [
    "print(defects.var())\n",
    "print(defects.std())"
   ]
  },
  {
   "cell_type": "code",
   "execution_count": 53,
   "metadata": {},
   "outputs": [
    {
     "name": "stdout",
     "output_type": "stream",
     "text": [
      "9.96568627451\n",
      "8.0\n",
      "80.8762735486\n",
      "8.99312368138\n"
     ]
    }
   ],
   "source": [
    "# The scipy library gives you access to these same functions\n",
    "\n",
    "print(scipy.mean(num_defects))\n",
    "print(scipy.median(num_defects))\n",
    "print(scipy.var(num_defects))\n",
    "print(scipy.std(num_defects))"
   ]
  },
  {
   "cell_type": "code",
   "execution_count": 54,
   "metadata": {
    "collapsed": true
   },
   "outputs": [],
   "source": [
    "np.mean?"
   ]
  },
  {
   "cell_type": "code",
   "execution_count": null,
   "metadata": {
    "collapsed": true
   },
   "outputs": [],
   "source": [
    "scipy.mean?"
   ]
  },
  {
   "cell_type": "code",
   "execution_count": 55,
   "metadata": {},
   "outputs": [
    {
     "name": "stdout",
     "output_type": "stream",
     "text": [
      "9.965686274509803\n",
      "8.0\n",
      "81.27467883705205\n",
      "9.015247020301333\n"
     ]
    }
   ],
   "source": [
    "# The Python statistics library (new in version 3.4 of Python) \n",
    "#     has many of the same functions, but with slightly different names\n",
    "\n",
    "print(stats.mean(num_defects))\n",
    "print(stats.median(num_defects))\n",
    "print(stats.variance(num_defects))\n",
    "print(stats.stdev(num_defects))"
   ]
  },
  {
   "cell_type": "code",
   "execution_count": 56,
   "metadata": {},
   "outputs": [
    {
     "name": "stdout",
     "output_type": "stream",
     "text": [
      "9.96568627451\n",
      "8.0\n",
      "81.2746788371\n",
      "9.0152470203\n"
     ]
    }
   ],
   "source": [
    "# Lastly, the pandas library allows you to perform similar calculations:\n",
    "\n",
    "defects_pd = pd.Series(num_defects)\n",
    "\n",
    "print(defects_pd.mean())\n",
    "print(defects_pd.median())\n",
    "print(defects_pd.var())\n",
    "print(defects_pd.std())"
   ]
  },
  {
   "cell_type": "code",
   "execution_count": 57,
   "metadata": {
    "collapsed": true
   },
   "outputs": [],
   "source": [
    "defects_pd.mean?"
   ]
  },
  {
   "cell_type": "code",
   "execution_count": 59,
   "metadata": {},
   "outputs": [
    {
     "data": {
      "text/plain": [
       "6     24\n",
       "8     24\n",
       "7     18\n",
       "5     15\n",
       "9     14\n",
       "4     13\n",
       "10    13\n",
       "11    11\n",
       "12    11\n",
       "14    10\n",
       "13     9\n",
       "3      9\n",
       "2      8\n",
       "18     5\n",
       "15     3\n",
       "22     3\n",
       "16     2\n",
       "17     2\n",
       "19     2\n",
       "21     2\n",
       "52     1\n",
       "24     1\n",
       "27     1\n",
       "42     1\n",
       "44     1\n",
       "99     1\n",
       "dtype: int64"
      ]
     },
     "execution_count": 59,
     "metadata": {},
     "output_type": "execute_result"
    }
   ],
   "source": [
    "defects_pd.value_counts(dropna=False)"
   ]
  },
  {
   "cell_type": "code",
   "execution_count": null,
   "metadata": {
    "collapsed": true
   },
   "outputs": [],
   "source": []
  },
  {
   "cell_type": "code",
   "execution_count": null,
   "metadata": {
    "collapsed": true
   },
   "outputs": [],
   "source": []
  },
  {
   "cell_type": "code",
   "execution_count": null,
   "metadata": {
    "collapsed": true
   },
   "outputs": [],
   "source": []
  },
  {
   "cell_type": "markdown",
   "metadata": {},
   "source": [
    "# Random stuff for testing purposes\n",
    "---"
   ]
  },
  {
   "cell_type": "markdown",
   "metadata": {},
   "source": [
    "# Experience Points\n",
    "---"
   ]
  },
  {
   "cell_type": "markdown",
   "metadata": {},
   "source": [
    "## Complete the following exercises:\n",
    "\n",
    "On the **IPython interpreter** create the following data types:\n",
    "\n",
    "Data type | Values\n",
    "----|----\n",
    "integers | `-10, 0, and 42`\n",
    "floating point numbers | `-10.0, 0.1, 42.0, and 3.7`\n",
    "strings | `'x', 'aloha', and 'Dark art of coding'`"
   ]
  },
  {
   "cell_type": "markdown",
   "metadata": {},
   "source": [
    "If you (and your partner, if you're working in pairs) are done, then you can put your green sticky up! This is how we know you're done.\n",
    "\n",
    "<img src='../images/green_sticky.300px.png' width='200' style='float:left'>"
   ]
  },
  {
   "cell_type": "code",
   "execution_count": null,
   "metadata": {},
   "outputs": [],
   "source": []
  }
 ],
 "metadata": {
  "anaconda-cloud": {},
  "kernelspec": {
   "display_name": "Python 3",
   "language": "python",
   "name": "python3"
  },
  "language_info": {
   "codemirror_mode": {
    "name": "ipython",
    "version": 3
   },
   "file_extension": ".py",
   "mimetype": "text/x-python",
   "name": "python",
   "nbconvert_exporter": "python",
   "pygments_lexer": "ipython3",
   "version": "3.6.4"
  }
 },
 "nbformat": 4,
 "nbformat_minor": 2
}
