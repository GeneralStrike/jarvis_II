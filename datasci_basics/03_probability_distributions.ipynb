{
 "cells": [
  {
   "cell_type": "markdown",
   "metadata": {},
   "source": [
    "# Welcome to the Dark Art of Coding:\n",
    "## Introduction to Data Science Fundamentals\n",
    "Probability distributions and Combinations, Permutations, Factorials\n",
    "\n",
    "\n",
    "<img src='../images/logos.3.600.wide.png' height='250' width='300' style=\"float:right\">"
   ]
  },
  {
   "cell_type": "markdown",
   "metadata": {},
   "source": [
    "# Main objectives\n",
    "---"
   ]
  },
  {
   "cell_type": "markdown",
   "metadata": {},
   "source": [
    "You will be able to:\n",
    "\n",
    "* Understand probability distributions\n",
    "* Understand permutations and combinations, including:\n",
    "    * factorials\n",
    "    * calculating the number of arrangements of items\n",
    "    * dealing with duplicates\n",
    "    * arranging by individual items versus types of items\n",
    "    * examining permutations\n",
    "    * examining combinations"
   ]
  },
  {
   "cell_type": "code",
   "execution_count": null,
   "metadata": {},
   "outputs": [],
   "source": [
    "   "
   ]
  },
  {
   "cell_type": "markdown",
   "metadata": {},
   "source": [
    "# Discrete Probability Distributions\n",
    "---"
   ]
  },
  {
   "cell_type": "markdown",
   "metadata": {},
   "source": [
    "Often, it is useful to simply understand the probability of an event. But sometimes it just isn't enough.\n",
    "\n",
    "For example, sometimes we need to know the consequences of a fairly likely event OR the results if an unlikely event occurs."
   ]
  },
  {
   "cell_type": "markdown",
   "metadata": {},
   "source": [
    "To start this conversation, let's consider a classic example: the slot machine:\n",
    "\n",
    "\n"
   ]
  },
  {
   "cell_type": "code",
   "execution_count": null,
   "metadata": {},
   "outputs": [],
   "source": []
  },
  {
   "cell_type": "code",
   "execution_count": null,
   "metadata": {},
   "outputs": [],
   "source": []
  },
  {
   "cell_type": "code",
   "execution_count": null,
   "metadata": {},
   "outputs": [],
   "source": []
  },
  {
   "cell_type": "markdown",
   "metadata": {},
   "source": [
    "## Experience Points\n",
    "---"
   ]
  },
  {
   "cell_type": "markdown",
   "metadata": {},
   "source": [
    "### Complete the following exercises:"
   ]
  },
  {
   "cell_type": "code",
   "execution_count": null,
   "metadata": {},
   "outputs": [],
   "source": []
  },
  {
   "cell_type": "markdown",
   "metadata": {},
   "source": [
    "If you (and your partner, if you're working in pairs) are done, then you can put your green sticky up! This is how we know you're done.\n",
    "\n",
    "<img src='../images/green_sticky.300px.png' width='200' style='float:left'>"
   ]
  },
  {
   "cell_type": "code",
   "execution_count": null,
   "metadata": {},
   "outputs": [],
   "source": []
  },
  {
   "cell_type": "code",
   "execution_count": null,
   "metadata": {},
   "outputs": [],
   "source": []
  },
  {
   "cell_type": "code",
   "execution_count": null,
   "metadata": {},
   "outputs": [],
   "source": []
  },
  {
   "cell_type": "code",
   "execution_count": null,
   "metadata": {},
   "outputs": [],
   "source": []
  },
  {
   "cell_type": "markdown",
   "metadata": {},
   "source": [
    "# Combinations & Permutations with a sprinkling of Factorials"
   ]
  },
  {
   "cell_type": "markdown",
   "metadata": {},
   "source": [
    "In looking at the sample space... a primary concern is being able to accurately identify or calculate the number of arrangements of items.\n",
    "\n",
    "Two difficulties that we run into include:\n",
    "\n",
    "* dealing with duplicates\n",
    "* arranging by individual items versus types of items\n",
    "\n",
    "Two help us with calculating the number of arrangements in a sample space, we will look at factorials, permutations and combinations (with and without replacement)."
   ]
  },
  {
   "cell_type": "markdown",
   "metadata": {},
   "source": [
    "# Factorials"
   ]
  },
  {
   "cell_type": "markdown",
   "metadata": {},
   "source": [
    "A **factorial** is the product of every whole number from `n` to 1. Factorials are written in the following manner:\n",
    "\n",
    "$\\Large n!$\n",
    "\n",
    "For example:\n",
    "\n",
    "$\\Large 2! = 2 \\times 1 = 2$\n",
    "\n",
    "$\\Large 3! = 3 \\times 2 \\times 1 = 6$\n",
    "\n",
    "$\\Large 4! = 4 \\times 3 \\times 2 \\times 1 = 24$\n",
    "\n",
    "$\\Large 10! = 10 \\times 9 \\times 8 \\times 7 \\times 6 \\times 5 \\times 4 \\times 3 \\times 2 \\times 1 = 3628800$"
   ]
  },
  {
   "cell_type": "markdown",
   "metadata": {},
   "source": [
    "Factorials present an easy way to write certain large numbers and are often used in statistics, especially in terms of calculating permutations and combinations.\n",
    "\n",
    "A great attribute of factorials is that when performing math with factorials, you can often simplify your work greatly if you need to do things by hand OR want to get a rough order of magnitude. In this example, the :\n",
    "\n",
    "$\\Large \\frac{5!}{3!} = \\frac{5 \\times 4 \\times 3 \\times 2 \\times 1}{3 \\times 2 \\times 1} = \\frac{5 \\times 4}{1}  = 20$\n",
    "\n",
    "$\\Large \\frac{5!  \\times 4!}{3! \\times 2!} =\n",
    " \\frac{5 \\times 4 \\times 3 \\times 2 \\times 1}{3 \\times 2 \\times 1 } \\times \\frac{4 \\times 3 \\times 2 \\times 1 }{\\times 2 \\times 1}\n",
    "      {} = \\frac{5 \\times 4}{1} \\times \\frac{4 \\times 3}{1} = 20 \\times 12 = 240$\n",
    "\n"
   ]
  },
  {
   "cell_type": "markdown",
   "metadata": {},
   "source": [
    "# Permutations and Combinations"
   ]
  },
  {
   "cell_type": "markdown",
   "metadata": {},
   "source": []
  },
  {
   "cell_type": "markdown",
   "metadata": {},
   "source": [
    "## Definitions:\n",
    "\n",
    "\n",
    "\n",
    "\n",
    "\n",
    "* permutations                    # (w/o rep)\n",
    "\n",
    "$\\Large\\frac{n!}{(n - k)!}$\n",
    "\n",
    "* combinations\n",
    "\n",
    "$\\Large\\frac{n!}{k!(n - k)!}$\n",
    "\n",
    "* product\n",
    "\n",
    "$\\Large n^k$\n",
    "\n",
    "* combinations with replacement\n",
    "\n",
    "$\\Large\\frac{(k + n - 1)!}{k!(n - 1)!}$"
   ]
  },
  {
   "cell_type": "markdown",
   "metadata": {},
   "source": [
    "||Without replacement|With replacement|\n",
    "|:-|:-|:-|\n",
    "|**Order matters**|permutations|product???|\n",
    "|**Order doesn't matter**|combinations|combinations with rep|"
   ]
  },
  {
   "cell_type": "code",
   "execution_count": null,
   "metadata": {},
   "outputs": [],
   "source": [
    "# handmade calcs?\n",
    "\n",
    "# factorial \n",
    "\n",
    "def factorial(n):\n",
    "    \n",
    "    \n",
    "    if n == 1:\n",
    "        return 1\n",
    "    elif n >= 2:\n",
    "        return n * factorial(n - 1)\n",
    "    elif n == 0:\n",
    "        return 1"
   ]
  },
  {
   "cell_type": "code",
   "execution_count": null,
   "metadata": {},
   "outputs": [],
   "source": [
    "# perms\n",
    "\n",
    "factorial(3) / factorial(3 - 2)"
   ]
  },
  {
   "cell_type": "code",
   "execution_count": null,
   "metadata": {},
   "outputs": [],
   "source": [
    "# combs\n",
    "\n",
    "factorial(3) / (factorial(2) * factorial(3 - 2))"
   ]
  },
  {
   "cell_type": "code",
   "execution_count": null,
   "metadata": {},
   "outputs": [],
   "source": [
    "# prod\n",
    "\n",
    "3 ** 2"
   ]
  },
  {
   "cell_type": "code",
   "execution_count": null,
   "metadata": {},
   "outputs": [],
   "source": [
    "# combs with rep...\n",
    "\n",
    "factorial(2 + 3 - 1) / (factorial(2) * factorial(3 - 1))"
   ]
  },
  {
   "cell_type": "code",
   "execution_count": null,
   "metadata": {},
   "outputs": [],
   "source": [
    "# Warning... using a roll-your-solution is often not the best plan\n",
    "#            if performance is goal, but can be useful to learn new things.\n",
    "#            # 32-bit integers max out around 12!\n",
    "#            # 64-bit integers max out around 20!\n",
    "\n",
    "\n",
    "from math import factorial as f"
   ]
  },
  {
   "cell_type": "code",
   "execution_count": null,
   "metadata": {},
   "outputs": [],
   "source": [
    "%timeit factorial(40)\n",
    "\n"
   ]
  },
  {
   "cell_type": "code",
   "execution_count": null,
   "metadata": {},
   "outputs": [],
   "source": [
    "%timeit f(80)"
   ]
  },
  {
   "cell_type": "code",
   "execution_count": null,
   "metadata": {},
   "outputs": [],
   "source": []
  },
  {
   "cell_type": "code",
   "execution_count": null,
   "metadata": {},
   "outputs": [],
   "source": []
  },
  {
   "cell_type": "code",
   "execution_count": null,
   "metadata": {},
   "outputs": [],
   "source": []
  },
  {
   "cell_type": "code",
   "execution_count": null,
   "metadata": {},
   "outputs": [],
   "source": [
    "l = [1, 2, 3]\n",
    "\n",
    "\n",
    "print(list(itertools.permutations(l, 2)))\n",
    "print(list(itertools.combinations(l, 2)))\n",
    "\n",
    "\n",
    "print(list(itertools.product(l, repeat=2)))\n",
    "print(list(itertools.combinations_with_replacement(l, 2)))"
   ]
  },
  {
   "cell_type": "code",
   "execution_count": null,
   "metadata": {},
   "outputs": [],
   "source": [
    "i = itertools.product(l, repeat=2)"
   ]
  },
  {
   "cell_type": "code",
   "execution_count": null,
   "metadata": {},
   "outputs": [],
   "source": [
    "print(list(itertools.permutations(l, 3)))\n",
    "print(list(itertools.combinations(l, 3)))\n",
    "\n",
    "\n",
    "print(list(itertools.product(l, repeat=3)))\n",
    "print(list(itertools.combinations_with_replacement(l, 3)))"
   ]
  },
  {
   "cell_type": "code",
   "execution_count": null,
   "metadata": {},
   "outputs": [],
   "source": [
    "# Standard library ... \n",
    "\n",
    "import itertools\n",
    "# combinations\n",
    "# permutations\n",
    "# product\n",
    "# combos with replacement"
   ]
  },
  {
   "cell_type": "code",
   "execution_count": null,
   "metadata": {},
   "outputs": [],
   "source": [
    "itertools.combinations\n",
    "itertools.combinations_with_replacement\n",
    "itertools.permutations\n",
    "itertools.product\n"
   ]
  },
  {
   "cell_type": "code",
   "execution_count": null,
   "metadata": {},
   "outputs": [],
   "source": []
  },
  {
   "cell_type": "markdown",
   "metadata": {},
   "source": [
    "What does all this mean, anyway...\n"
   ]
  },
  {
   "cell_type": "markdown",
   "metadata": {},
   "source": [
    "Thus far, we have looked a lot of examples where we generally just focused on an OR specific elements out of a sample space:\n",
    "\n",
    "probability of a 3 out of 6 on a d6\n",
    "probability of an even number out on a d20\n",
    "\n",
    "Much of probability is not that simple..."
   ]
  },
  {
   "cell_type": "markdown",
   "metadata": {},
   "source": [
    "For example, in a superhero foot race, how many different ways can the superheroes cross the finish line would be an example of looking at a problem where order matters:\n",
    "\n",
    "||First, Second, Third|\n",
    "|:--|:--|\n",
    "|Order 1|iron man, black widow, black panther|\n",
    "|Order 2|iron man, black panther, black widow|\n",
    "|Order 3|black widow, iron man, black panther|\n",
    "|Order 4|black widow, black panther, iron man|\n",
    "|Order 5|black panther, iron man, black widow|\n",
    "|Order 6|black panther, black widow, iron man|"
   ]
  },
  {
   "cell_type": "markdown",
   "metadata": {},
   "source": [
    "Let's use our newfound skills to calculate this:"
   ]
  },
  {
   "cell_type": "code",
   "execution_count": null,
   "metadata": {},
   "outputs": [],
   "source": [
    "heroes = ['iron man', 'black widow', 'black panther']"
   ]
  },
  {
   "cell_type": "markdown",
   "metadata": {},
   "source": [
    "First we will look at all the possible outcomes and count those outcomes:\n",
    "\n",
    "* What are the possible orderings (permutations)?\n",
    "* How many possible ordering are there (i.e. what is the size of the sample space)?"
   ]
  },
  {
   "cell_type": "markdown",
   "metadata": {},
   "source": [
    "In this case, we can find out how many possible outcomes are available by using our function `factorial()`, but this is somewhat limiting."
   ]
  },
  {
   "cell_type": "code",
   "execution_count": null,
   "metadata": {},
   "outputs": [],
   "source": [
    "print(factorial(len(heroes)))"
   ]
  },
  {
   "cell_type": "markdown",
   "metadata": {},
   "source": [
    "This is somewhat limiting in that we don't know the order of the items and such.\n",
    "\n",
    "To actually get the ordering "
   ]
  },
  {
   "cell_type": "code",
   "execution_count": null,
   "metadata": {},
   "outputs": [],
   "source": [
    "import pprint as pp\n",
    "heroes = ['iron man', 'black widow', 'black panther']\n",
    "S = list(itertools.permutations(heroes, 3))\n",
    "pp.pprint(S)\n",
    "print()\n",
    "print('Total number of permutations:', len(S))"
   ]
  },
  {
   "cell_type": "code",
   "execution_count": null,
   "metadata": {},
   "outputs": [],
   "source": []
  },
  {
   "cell_type": "code",
   "execution_count": null,
   "metadata": {},
   "outputs": [],
   "source": [
    "import pprint as pp\n",
    "heroes = ['iron man', 'black widow', 'black panther', 'captain america', 'spiderman']\n",
    "S = list(itertools.combinations(heroes, 3))\n",
    "pp.pprint(S)\n",
    "print()\n",
    "print('Total number of permutations:', len(S))"
   ]
  },
  {
   "cell_type": "code",
   "execution_count": null,
   "metadata": {},
   "outputs": [],
   "source": []
  },
  {
   "cell_type": "code",
   "execution_count": null,
   "metadata": {},
   "outputs": [],
   "source": []
  },
  {
   "cell_type": "code",
   "execution_count": null,
   "metadata": {},
   "outputs": [],
   "source": []
  },
  {
   "cell_type": "code",
   "execution_count": null,
   "metadata": {},
   "outputs": [],
   "source": []
  },
  {
   "cell_type": "code",
   "execution_count": null,
   "metadata": {},
   "outputs": [],
   "source": []
  },
  {
   "cell_type": "code",
   "execution_count": null,
   "metadata": {},
   "outputs": [],
   "source": []
  },
  {
   "cell_type": "code",
   "execution_count": null,
   "metadata": {},
   "outputs": [],
   "source": []
  },
  {
   "cell_type": "markdown",
   "metadata": {},
   "source": [
    "# BACKUP:"
   ]
  },
  {
   "cell_type": "markdown",
   "metadata": {},
   "source": [
    "# Continuous Distributions"
   ]
  },
  {
   "cell_type": "code",
   "execution_count": null,
   "metadata": {
    "collapsed": true
   },
   "outputs": [],
   "source": [
    "def uniform_pdf(x):\n",
    "    return 1 if 0 <= x < 1 else 0"
   ]
  },
  {
   "cell_type": "code",
   "execution_count": null,
   "metadata": {},
   "outputs": [],
   "source": [
    "# Let's test our uniform_pdf function\n",
    "\n",
    "for n in range(-4, 20):\n",
    "    n = round(n * 0.1, 1)\n",
    "    print(uniform_pdf(n), '\\t', n)"
   ]
  },
  {
   "cell_type": "code",
   "execution_count": null,
   "metadata": {
    "collapsed": true
   },
   "outputs": [],
   "source": [
    "def uniform_cdf(x):\n",
    "    '''Returns the probability that a uniform random variable\n",
    "    is <= x'''\n",
    "    \n",
    "    if x < 0: return 0     # uniform random var is never less than 0\n",
    "    elif x < 1: return x   # P(x <- 0.4) = 0.4\n",
    "    else: return 1         # uniform random is always less than 1"
   ]
  },
  {
   "cell_type": "code",
   "execution_count": null,
   "metadata": {},
   "outputs": [],
   "source": [
    "# Let's test our uniform_cdf function\n",
    "\n",
    "for n in range(-4, 20):\n",
    "    n = round(n * 0.1, 1)\n",
    "    print(uniform_cdf(n), '\\t', n)"
   ]
  },
  {
   "cell_type": "code",
   "execution_count": null,
   "metadata": {
    "collapsed": true
   },
   "outputs": [],
   "source": [
    "def normal_pdf(x, mu=0, sigma=1):\n",
    "    sqrt_two_pi = math.sqrt(2 * math.pi)\n",
    "    return (math.exp(-(x-mu) ** 2 / 2 / sigma ** 2) / (sqrt_two_pi * sigma))"
   ]
  },
  {
   "cell_type": "code",
   "execution_count": null,
   "metadata": {
    "collapsed": true
   },
   "outputs": [],
   "source": [
    "xs = [x/ 10.0 for x in range(-50, 50)]"
   ]
  },
  {
   "cell_type": "code",
   "execution_count": null,
   "metadata": {},
   "outputs": [],
   "source": [
    "plt.plot(xs, [normal_pdf(x, sigma=1) for x in xs], '-', label='mu=0, sigma=1')\n",
    "plt.plot(xs, [normal_pdf(x, sigma=2) for x in xs], '--', label='mu=0, sigma=2')\n",
    "plt.plot(xs, [normal_pdf(x, sigma=0.5) for x in xs], ':', label='mu=0, sigma=0.5')\n",
    "plt.plot(xs, [normal_pdf(x, mu=-1) for x in xs], '-.', label='mu=-1, sigma=1')\n",
    "plt.legend()"
   ]
  },
  {
   "cell_type": "markdown",
   "metadata": {},
   "source": [
    "If mu = 0 and sigma = 1, then the distribution is considered a standard normal diatribution."
   ]
  },
  {
   "cell_type": "markdown",
   "metadata": {},
   "source": [
    "If Z is a Standard, Normal Random variable, then in the equation: X = sigma * Z + mu, X is considered normal, but with a mean of mu and  a standard deviation of sigma.\n",
    "    "
   ]
  },
  {
   "cell_type": "code",
   "execution_count": null,
   "metadata": {
    "collapsed": true
   },
   "outputs": [],
   "source": [
    "def normal_cdf(x, mu=0, sigma=1):\n",
    "    return (1 + math.erf((x - mu) / math.sqrt(2) / sigma)) / 2"
   ]
  },
  {
   "cell_type": "code",
   "execution_count": null,
   "metadata": {},
   "outputs": [],
   "source": [
    "plt.plot(xs, [normal_cdf(x, sigma=1) for x in xs], '-', label='mu=0, sigma=1')\n",
    "plt.plot(xs, [normal_cdf(x, sigma=2) for x in xs], '--', label='mu=0, sigma=2')\n",
    "plt.plot(xs, [normal_cdf(x, sigma=0.5) for x in xs], ':', label='mu=0, sigma=0.5')\n",
    "plt.plot(xs, [normal_cdf(x, mu=-1) for x in xs], '-.', label='mu=-1, sigma=1')\n",
    "plt.legend(loc=4)"
   ]
  },
  {
   "cell_type": "code",
   "execution_count": null,
   "metadata": {
    "collapsed": true
   },
   "outputs": [],
   "source": [
    "def inverse_normal_cdf(p, mu=0, sigma=1, tolerance=0.00001):\n",
    "    '''find approximate inverse, by running a binary search'''\n",
    "    \n",
    "    # if the curve is not a Standard curve, compute a \n",
    "    # standard curve and rescale appropriately\n",
    "    \n",
    "    if mu != 0 or sigma != 1:\n",
    "        return mu + sigma * inverse_normal_cdf(p, tolerance=tolerance)\n",
    "    \n",
    "    low_z, low_p = -10.0, 0\n",
    "    hi_z, hi_p = 10.0, 1\n",
    "    while hi_z - low_z > tolerance:\n",
    "        mid_z = low_z + hi_z / 2\n",
    "        mid_p = normal_csf(mid_z)\n",
    "        if mid_p < p:\n",
    "            # midpoint is still too low, search higher numbers\n",
    "            low_z, low_p = mid_z, mid_p\n",
    "        elif mid_p > p:\n",
    "            # midpoint is still too high, search lower numbers\n",
    "            hi_z, hi_P = mid_z, mid_p\n",
    "        else:\n",
    "            break \n",
    "    return miz_z           \n",
    "    \n",
    "    "
   ]
  },
  {
   "cell_type": "code",
   "execution_count": null,
   "metadata": {},
   "outputs": [],
   "source": []
  },
  {
   "cell_type": "code",
   "execution_count": null,
   "metadata": {},
   "outputs": [],
   "source": []
  },
  {
   "cell_type": "code",
   "execution_count": null,
   "metadata": {},
   "outputs": [],
   "source": []
  },
  {
   "cell_type": "markdown",
   "metadata": {},
   "source": [
    "* Examine and use special probability distributions, such as:\n",
    "    * geometric\n",
    "    * binary\n",
    "    * poisson\n",
    "    * normal\n",
    "    \n",
    "* Combinations & Permutations "
   ]
  },
  {
   "cell_type": "code",
   "execution_count": null,
   "metadata": {},
   "outputs": [],
   "source": []
  }
 ],
 "metadata": {
  "kernelspec": {
   "display_name": "Python 3",
   "language": "python",
   "name": "python3"
  },
  "language_info": {
   "codemirror_mode": {
    "name": "ipython",
    "version": 3
   },
   "file_extension": ".py",
   "mimetype": "text/x-python",
   "name": "python",
   "nbconvert_exporter": "python",
   "pygments_lexer": "ipython3",
   "version": "3.6.5"
  }
 },
 "nbformat": 4,
 "nbformat_minor": 2
}
